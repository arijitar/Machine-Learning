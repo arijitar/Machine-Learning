{
  "nbformat": 4,
  "nbformat_minor": 0,
  "metadata": {
    "colab": {
      "provenance": [],
      "authorship_tag": "ABX9TyN8t/CRNjNtnCowe7QLKWnU",
      "include_colab_link": true
    },
    "kernelspec": {
      "name": "python3",
      "display_name": "Python 3"
    },
    "language_info": {
      "name": "python"
    }
  },
  "cells": [
    {
      "cell_type": "markdown",
      "metadata": {
        "id": "view-in-github",
        "colab_type": "text"
      },
      "source": [
        "<a href=\"https://colab.research.google.com/github/arijitar/Machine-Learning/blob/main/dropout_regression_example.ipynb\" target=\"_parent\"><img src=\"https://colab.research.google.com/assets/colab-badge.svg\" alt=\"Open In Colab\"/></a>"
      ]
    },
    {
      "cell_type": "code",
      "execution_count": 1,
      "metadata": {
        "id": "6n9mlJDKzPIw"
      },
      "outputs": [],
      "source": [
        "import tensorflow as tf\n",
        "import numpy as np\n",
        "import matplotlib.pyplot as plt\n",
        "from tensorflow.keras.models import Sequential\n",
        "from tensorflow.keras.layers import Dense, Dropout\n",
        "from tensorflow.keras.optimizers import Adam\n",
        "from sklearn.model_selection import train_test_split\n",
        "from sklearn.metrics import mean_squared_error\n",
        "from sklearn.preprocessing import StandardScaler"
      ]
    },
    {
      "cell_type": "markdown",
      "source": [
        "# Generate Data"
      ],
      "metadata": {
        "id": "XPgRN4wDz2s5"
      }
    },
    {
      "cell_type": "code",
      "source": [
        "X_train = np.linspace(-1, 1, 20)"
      ],
      "metadata": {
        "id": "a7T_HNhnz029"
      },
      "execution_count": 2,
      "outputs": []
    },
    {
      "cell_type": "code",
      "source": [
        "y_train = np.array([-0.6561 , -0.3099 , -0.59035, -0.50855, -0.285  ,\n",
        "                    -0.2443 , -0.02445,  0.00135, -0.2006 ,  0.07475,\n",
        "                    -0.1422 ,  0.06515,  0.15265,  0.3521 ,  0.28415,\n",
        "                    0.5524 ,  0.23115,  0.20835, 0.4211,  0.60485])"
      ],
      "metadata": {
        "id": "_TL43uQlz5Eg"
      },
      "execution_count": 3,
      "outputs": []
    },
    {
      "cell_type": "code",
      "source": [
        "X_test = np.linspace(-1, 1, 20)"
      ],
      "metadata": {
        "id": "0aIvcdAP0II8"
      },
      "execution_count": 4,
      "outputs": []
    },
    {
      "cell_type": "code",
      "source": [
        "y_test = np.array([-0.69415, -0.451  , -0.43005, -0.4484 , -0.1475 ,\n",
        "                   -0.5019 , -0.28055,  0.24595, -0.21425, -0.0286 ,\n",
        "                   0.23415,  0.46575, 0.07955,  0.1973 ,  0.0719 ,\n",
        "                   0.3639 ,  0.5536 ,  0.3365 , 0.50705,  0.33435])"
      ],
      "metadata": {
        "id": "fBPvccdR0wFJ"
      },
      "execution_count": 5,
      "outputs": []
    },
    {
      "cell_type": "code",
      "source": [
        "plt.scatter(X_train, y_train, c='black', label='Train')\n",
        "plt.scatter(X_test, y_test, c='red', label='Test')\n",
        "plt.legend()\n",
        "plt.show()"
      ],
      "metadata": {
        "colab": {
          "base_uri": "https://localhost:8080/",
          "height": 430
        },
        "id": "u0dp75-C0yB-",
        "outputId": "dc5b9511-152a-4997-e614-bf0030d9e693"
      },
      "execution_count": 6,
      "outputs": [
        {
          "output_type": "display_data",
          "data": {
            "text/plain": [
              "<Figure size 640x480 with 1 Axes>"
            ],
            "image/png": "[encoded data removed]"
          },
          "metadata": {}
        }
      ]
    },
    {
      "cell_type": "code",
      "source": [
        "model_1 = Sequential()\n",
        "model_1.add(Dense(128, input_dim=1, activation='relu'))\n",
        "model_1.add(Dense(128, activation='relu'))\n",
        "model_1.add(Dense(1, activation='linear'))\n",
        "\n",
        "adam = Adam(learning_rate=0.01)\n",
        "model_1.compile(loss='mse', optimizer=adam,metrics=['mse'])\n",
        "history = model_1.fit(X_train, y_train, epochs=500, validation_data = (X_test, y_test), verbose=False)"
      ],
      "metadata": {
        "colab": {
          "base_uri": "https://localhost:8080/"
        },
        "id": "4II4YlWt00nG",
        "outputId": "d64adcf0-422e-4769-ae61-724e4c3f7311"
      },
      "execution_count": null,
      "outputs": [
        {
          "output_type": "stream",
          "name": "stderr",
          "text": [
            "/usr/local/lib/python3.10/dist-packages/keras/src/layers/core/dense.py:87: UserWarning: Do not pass an `input_shape`/`input_dim` argument to a layer. When using Sequential models, prefer using an `Input(shape)` object as the first layer in the model instead.\n",
            "  super().__init__(activity_regularizer=activity_regularizer, **kwargs)\n"
          ]
        }
      ]
    },
    {
      "cell_type": "code",
      "source": [
        "# evaluate the model\n",
        "_, train_mse = model_1.evaluate(X_train, y_train, verbose=0)\n",
        "_, test_mse = model_1.evaluate(X_test, y_test, verbose=0)\n",
        "print('Train: {}, Test: {}'.format(train_mse, test_mse))"
      ],
      "metadata": {
        "id": "X5lF165a6eUv"
      },
      "execution_count": null,
      "outputs": []
    },
    {
      "cell_type": "code",
      "source": [
        "y_pred = model_1.predict(X_test)"
      ],
      "metadata": {
        "id": "AeMPUksB7Ru1"
      },
      "execution_count": null,
      "outputs": []
    },
    {
      "cell_type": "code",
      "source": [
        "plt.figure()\n",
        "plt.scatter(X_train, y_train, c='black', label='Train')\n",
        "plt.scatter(X_test, y_test, c='red', label='Test')\n",
        "plt.plot(X_test, y_pred)\n",
        "plt.ylim((-1.5, 1.5))\n",
        "plt.legend()\n",
        "plt.show()"
      ],
      "metadata": {
        "id": "9LiMgljk70Xn"
      },
      "execution_count": null,
      "outputs": []
    },
    {
      "cell_type": "code",
      "source": [
        "plt.plot(history.history['loss'])\n",
        "plt.plot(history.history['val_loss'])"
      ],
      "metadata": {
        "id": "rcrgumrH8IZ-"
      },
      "execution_count": null,
      "outputs": []
    },
    {
      "cell_type": "markdown",
      "source": [
        "# Dropout Model"
      ],
      "metadata": {
        "id": "9tmhZklw9MIV"
      }
    },
    {
      "cell_type": "code",
      "source": [
        "model = Sequential()\n",
        "model.add(Dense(128,input_dim=1, activation=\"relu\"))\n",
        "model.add(Dropout(0.5))\n",
        "model.add(Dense(128, activation=\"relu\"))\n",
        "model.add(Dropout(0.5))\n",
        "model.add(Dense(1, activation=\"linear\"))\n",
        "adam = Adam(learning_rate=0.01)\n",
        "model.compile(loss='mse', optimizer=adam,metrics=['mse'])\n",
        "history = model.fit(X_train, y_train, epochs=500, validation_data = (X_test, y_test), verbose=False)"
      ],
      "metadata": {
        "id": "-myDr-2f88z0"
      },
      "execution_count": null,
      "outputs": []
    },
    {
      "cell_type": "code",
      "source": [
        "#evaluate the model\n",
        "_, train_mse = model.evaluate(X_train, y_train, verbose=0)\n",
        "_, test_mse = model.evaluate(X_test, y_test, verbose=0)\n",
        "print('Train: {}, Test: {}'.format(train_mse, test_mse))\n"
      ],
      "metadata": {
        "id": "gqb0pRn_91-F"
      },
      "execution_count": null,
      "outputs": []
    },
    {
      "cell_type": "code",
      "source": [
        "y_pred = model.predict(X_test)"
      ],
      "metadata": {
        "id": "to02cONk-N_3"
      },
      "execution_count": null,
      "outputs": []
    },
    {
      "cell_type": "code",
      "source": [
        "plt.figure()\n",
        "plt.scatter(X_train, y_train, c='black', label='Train')\n",
        "plt.scatter(X_test, y_test, c='red', label='Test')\n",
        "plt.plot(X_test, y_pred)\n",
        "plt.ylim((-1.5, 1.5))\n",
        "plt.legend()\n",
        "plt.show()"
      ],
      "metadata": {
        "id": "YFAd437e-WEt"
      },
      "execution_count": null,
      "outputs": []
    },
    {
      "cell_type": "code",
      "source": [
        "plt.plot(history.history['loss'])\n",
        "plt.plot(history.history['val_loss'])"
      ],
      "metadata": {
        "id": "oG1qvmEh-jtw"
      },
      "execution_count": null,
      "outputs": []
    },
    {
      "cell_type": "code",
      "source": [],
      "metadata": {
        "id": "tV5il66_-py7"
      },
      "execution_count": null,
      "outputs": []
    }
  ]
}