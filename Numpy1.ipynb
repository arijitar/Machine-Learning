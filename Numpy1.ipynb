{
  "cells": [
    {
      "cell_type": "markdown",
      "metadata": {
        "id": "view-in-github",
        "colab_type": "text"
      },
      "source": [
        "<a href=\"https://colab.research.google.com/github/arijitar/Machine-Learning/blob/main/Numpy1.ipynb\" target=\"_parent\"><img src=\"https://colab.research.google.com/assets/colab-badge.svg\" alt=\"Open In Colab\"/></a>"
      ]
    },
    {
      "cell_type": "markdown",
      "metadata": {
        "id": "1I2OHE7OnNUN"
      },
      "source": []
    },
    {
      "cell_type": "markdown",
      "metadata": {
        "id": "hV-Odp7VnO16"
      },
      "source": [
        "# Numpy\n"
      ]
    },
    {
      "cell_type": "code",
      "execution_count": null,
      "metadata": {
        "id": "WlVvNxIKnRlR"
      },
      "outputs": [],
      "source": [
        "import numpy as np"
      ]
    },
    {
      "cell_type": "code",
      "execution_count": null,
      "metadata": {
        "colab": {
          "background_save": true
        },
        "id": "U_piYtSAnZGv"
      },
      "outputs": [],
      "source": [
        "a = np.array([1, 2, 3, 4, 5],dtype = 'i')\n",
        "b = np.array((1, 6, 3, 4, 9),dtype = 'f')"
      ]
    },
    {
      "cell_type": "code",
      "execution_count": null,
      "metadata": {
        "colab": {
          "background_save": true,
          "base_uri": "https://localhost:8080/"
        },
        "id": "u8y4irKbnlsi",
        "outputId": "77c6f500-88ae-41ea-ee7f-f1624c3abd06"
      },
      "outputs": [
        {
          "name": "stdout",
          "output_type": "stream",
          "text": [
            "[1 2 3 4 5]\n",
            "[1. 6. 3. 4. 9.]\n"
          ]
        }
      ],
      "source": [
        "print(a)\n",
        "print(b)"
      ]
    },
    {
      "cell_type": "code",
      "execution_count": null,
      "metadata": {
        "colab": {
          "background_save": true,
          "base_uri": "https://localhost:8080/"
        },
        "id": "QfF4PT2cnqe8",
        "outputId": "49b55c53-32ad-4ba9-d773-2b05c38c024b"
      },
      "outputs": [
        {
          "data": {
            "text/plain": [
              "numpy.ndarray"
            ]
          },
          "execution_count": 4,
          "metadata": {},
          "output_type": "execute_result"
        }
      ],
      "source": [
        "type(a)"
      ]
    },
    {
      "cell_type": "code",
      "execution_count": null,
      "metadata": {
        "colab": {
          "background_save": true
        },
        "id": "v3Yzw2GFv1OP"
      },
      "outputs": [],
      "source": []
    },
    {
      "cell_type": "code",
      "execution_count": null,
      "metadata": {
        "colab": {
          "background_save": true,
          "base_uri": "https://localhost:8080/"
        },
        "id": "4101YPibzaJK",
        "outputId": "3b512bea-cc7c-43d4-a3ef-cd1e7c63cb99"
      },
      "outputs": [
        {
          "data": {
            "text/plain": [
              "numpy.ndarray"
            ]
          },
          "execution_count": 5,
          "metadata": {},
          "output_type": "execute_result"
        }
      ],
      "source": [
        "type(b)"
      ]
    },
    {
      "cell_type": "code",
      "execution_count": null,
      "metadata": {
        "colab": {
          "background_save": true,
          "base_uri": "https://localhost:8080/"
        },
        "id": "eLPA6PP8zdIr",
        "outputId": "06e32346-d189-42d4-f734-2ce24c973261"
      },
      "outputs": [
        {
          "data": {
            "text/plain": [
              "dtype('int32')"
            ]
          },
          "execution_count": 6,
          "metadata": {},
          "output_type": "execute_result"
        }
      ],
      "source": [
        "a.dtype"
      ]
    },
    {
      "cell_type": "code",
      "execution_count": null,
      "metadata": {
        "colab": {
          "background_save": true,
          "base_uri": "https://localhost:8080/"
        },
        "id": "Z4uJq7LbzgF_",
        "outputId": "f9da896f-1965-42fc-d804-c377bd441072"
      },
      "outputs": [
        {
          "data": {
            "text/plain": [
              "dtype('float32')"
            ]
          },
          "execution_count": 7,
          "metadata": {},
          "output_type": "execute_result"
        }
      ],
      "source": [
        "b.dtype"
      ]
    },
    {
      "cell_type": "markdown",
      "metadata": {
        "id": "td5PDnGz0BTT"
      },
      "source": [
        "# Numpy (Dimentions)"
      ]
    },
    {
      "cell_type": "code",
      "execution_count": null,
      "metadata": {
        "colab": {
          "background_save": true
        },
        "id": "IudiY4bP0JC0"
      },
      "outputs": [],
      "source": [
        "a = np.array([[1, 2, 3], [4, 5, 6]])"
      ]
    },
    {
      "cell_type": "code",
      "execution_count": null,
      "metadata": {
        "colab": {
          "background_save": true,
          "base_uri": "https://localhost:8080/"
        },
        "id": "RRwGjqLh0UdY",
        "outputId": "379e1242-a5d8-4e98-f0d5-ea25dc78c19f"
      },
      "outputs": [
        {
          "name": "stdout",
          "output_type": "stream",
          "text": [
            "2\n"
          ]
        }
      ],
      "source": [
        "print(a.ndim)"
      ]
    },
    {
      "cell_type": "code",
      "execution_count": null,
      "metadata": {
        "colab": {
          "background_save": true
        },
        "id": "DtHPy6jP0WKN"
      },
      "outputs": [],
      "source": [
        "b = np.array([[[1, 2, 3], [4, 5, 6]], [[1, 2, 3], [4, 5, 6]]])"
      ]
    },
    {
      "cell_type": "code",
      "execution_count": null,
      "metadata": {
        "colab": {
          "background_save": true,
          "base_uri": "https://localhost:8080/"
        },
        "id": "e1AEwi5V0dE8",
        "outputId": "32f11aec-5d52-443d-dc65-5e4005a51b7d"
      },
      "outputs": [
        {
          "name": "stdout",
          "output_type": "stream",
          "text": [
            "3\n"
          ]
        }
      ],
      "source": [
        "print(b.ndim)"
      ]
    },
    {
      "cell_type": "code",
      "execution_count": null,
      "metadata": {
        "colab": {
          "background_save": true,
          "base_uri": "https://localhost:8080/"
        },
        "id": "TR8piIyB0iKz",
        "outputId": "5f176ea8-8905-4979-802c-13d499ef1d87"
      },
      "outputs": [
        {
          "data": {
            "text/plain": [
              "dtype('int64')"
            ]
          },
          "execution_count": 12,
          "metadata": {},
          "output_type": "execute_result"
        }
      ],
      "source": [
        "a.dtype"
      ]
    },
    {
      "cell_type": "code",
      "execution_count": null,
      "metadata": {
        "colab": {
          "background_save": true,
          "base_uri": "https://localhost:8080/"
        },
        "id": "neYOQPBo0qLx",
        "outputId": "05e72722-c669-46bd-d1f4-487ae8d68b08"
      },
      "outputs": [
        {
          "data": {
            "text/plain": [
              "dtype('int64')"
            ]
          },
          "execution_count": 13,
          "metadata": {},
          "output_type": "execute_result"
        }
      ],
      "source": [
        "b.dtype"
      ]
    },
    {
      "cell_type": "code",
      "execution_count": null,
      "metadata": {
        "colab": {
          "background_save": true,
          "base_uri": "https://localhost:8080/"
        },
        "id": "nbGFOd5g0u5A",
        "outputId": "30463c95-c769-4e85-db3d-c627ff71f48e"
      },
      "outputs": [
        {
          "name": "stdout",
          "output_type": "stream",
          "text": [
            "2\n"
          ]
        }
      ],
      "source": [
        "print(a[0,1])"
      ]
    },
    {
      "cell_type": "code",
      "execution_count": null,
      "metadata": {
        "colab": {
          "background_save": true,
          "base_uri": "https://localhost:8080/"
        },
        "id": "uJx6ShVK1DPH",
        "outputId": "4ea40fc2-13de-4b6c-e067-91d97619802a"
      },
      "outputs": [
        {
          "name": "stdout",
          "output_type": "stream",
          "text": [
            "6\n"
          ]
        }
      ],
      "source": [
        "print(a[1,2])"
      ]
    },
    {
      "cell_type": "code",
      "execution_count": null,
      "metadata": {
        "colab": {
          "background_save": true,
          "base_uri": "https://localhost:8080/"
        },
        "id": "9PpRVy8M1I-p",
        "outputId": "5b482f6d-d5cd-4258-acda-68ed2507b5c5"
      },
      "outputs": [
        {
          "name": "stdout",
          "output_type": "stream",
          "text": [
            "3\n"
          ]
        }
      ],
      "source": [
        "print(b[1,0,2])"
      ]
    },
    {
      "cell_type": "code",
      "execution_count": null,
      "metadata": {
        "colab": {
          "background_save": true,
          "base_uri": "https://localhost:8080/"
        },
        "id": "-qe-YEvi1NE2",
        "outputId": "2b552aad-9b92-4b1a-efba-5d47376ab86f"
      },
      "outputs": [
        {
          "name": "stdout",
          "output_type": "stream",
          "text": [
            "2 2 3\n"
          ]
        }
      ],
      "source": [
        "print(b.shape[0],b.shape[1], b.shape[2])"
      ]
    },
    {
      "cell_type": "code",
      "execution_count": null,
      "metadata": {
        "colab": {
          "background_save": true,
          "base_uri": "https://localhost:8080/"
        },
        "id": "V6w7U-QH1cd_",
        "outputId": "1ad54a0c-0512-4319-dd58-34f227baf3db"
      },
      "outputs": [
        {
          "data": {
            "text/plain": [
              "(2, 3)"
            ]
          },
          "execution_count": 18,
          "metadata": {},
          "output_type": "execute_result"
        }
      ],
      "source": [
        "a.shape"
      ]
    },
    {
      "cell_type": "code",
      "execution_count": null,
      "metadata": {
        "colab": {
          "background_save": true
        },
        "id": "s1YVM_lP6ZxI"
      },
      "outputs": [],
      "source": [
        "\n",
        "c = np.array([[[1, 2, 3],[4, 5, 6],[0, 0, 1]],[[-1,-2 ,-3],[-4, -5, -6],[0, 0, 1]]])"
      ]
    },
    {
      "cell_type": "code",
      "execution_count": null,
      "metadata": {
        "colab": {
          "background_save": true,
          "base_uri": "https://localhost:8080/"
        },
        "id": "s9Tt6qPkCBSm",
        "outputId": "d4de2cbb-f6e0-4842-a8c8-5e43a9cd76b4"
      },
      "outputs": [
        {
          "data": {
            "text/plain": [
              "3"
            ]
          },
          "execution_count": 20,
          "metadata": {},
          "output_type": "execute_result"
        }
      ],
      "source": [
        "\n",
        "c.ndim"
      ]
    },
    {
      "cell_type": "code",
      "execution_count": null,
      "metadata": {
        "colab": {
          "background_save": true,
          "base_uri": "https://localhost:8080/"
        },
        "id": "aH-sRvEBCKXs",
        "outputId": "75134773-4aae-4bd1-f3a8-cfad9487281e"
      },
      "outputs": [
        {
          "data": {
            "text/plain": [
              "1"
            ]
          },
          "execution_count": 21,
          "metadata": {},
          "output_type": "execute_result"
        }
      ],
      "source": [
        "\n",
        "\n",
        "c[1, 2, 2]"
      ]
    },
    {
      "cell_type": "code",
      "execution_count": null,
      "metadata": {
        "colab": {
          "background_save": true,
          "base_uri": "https://localhost:8080/"
        },
        "id": "T7c5y_A_CZ1R",
        "outputId": "a8ab6050-cd49-4a8f-c3b6-027c9815e664"
      },
      "outputs": [
        {
          "data": {
            "text/plain": [
              "numpy.ndarray"
            ]
          },
          "execution_count": 22,
          "metadata": {},
          "output_type": "execute_result"
        }
      ],
      "source": [
        "\n",
        "type(c)"
      ]
    },
    {
      "cell_type": "code",
      "execution_count": null,
      "metadata": {
        "colab": {
          "background_save": true,
          "base_uri": "https://localhost:8080/"
        },
        "id": "-lykb0NHCkxu",
        "outputId": "91ae1bd8-1226-4b56-b2d9-a22162d40d57"
      },
      "outputs": [
        {
          "data": {
            "text/plain": [
              "2"
            ]
          },
          "execution_count": 23,
          "metadata": {},
          "output_type": "execute_result"
        }
      ],
      "source": [
        "c.shape[0]"
      ]
    },
    {
      "cell_type": "code",
      "execution_count": null,
      "metadata": {
        "colab": {
          "background_save": true,
          "base_uri": "https://localhost:8080/"
        },
        "id": "Tsn6WVW3DDKR",
        "outputId": "11f26daf-6074-441a-bd6e-016f70f8c5a1"
      },
      "outputs": [
        {
          "data": {
            "text/plain": [
              "3"
            ]
          },
          "execution_count": 24,
          "metadata": {},
          "output_type": "execute_result"
        }
      ],
      "source": [
        "c.shape[1]"
      ]
    },
    {
      "cell_type": "code",
      "execution_count": null,
      "metadata": {
        "colab": {
          "background_save": true,
          "base_uri": "https://localhost:8080/"
        },
        "id": "dsccLXWADaQv",
        "outputId": "ca06ad07-4998-4dde-98d8-220647fceb69"
      },
      "outputs": [
        {
          "data": {
            "text/plain": [
              "3"
            ]
          },
          "execution_count": 25,
          "metadata": {},
          "output_type": "execute_result"
        }
      ],
      "source": [
        "c.shape[2]"
      ]
    },
    {
      "cell_type": "code",
      "execution_count": null,
      "metadata": {
        "colab": {
          "background_save": true
        },
        "id": "ynqHU7OvDdme"
      },
      "outputs": [],
      "source": [
        "A = np.array([2])"
      ]
    },
    {
      "cell_type": "code",
      "execution_count": null,
      "metadata": {
        "colab": {
          "background_save": true,
          "base_uri": "https://localhost:8080/"
        },
        "id": "ejx4NS7wDlZx",
        "outputId": "f3f5dc11-bcf5-4296-c592-e3ca0501b45f"
      },
      "outputs": [
        {
          "data": {
            "text/plain": [
              "1"
            ]
          },
          "execution_count": 27,
          "metadata": {},
          "output_type": "execute_result"
        }
      ],
      "source": [
        "A.ndim"
      ]
    },
    {
      "cell_type": "code",
      "execution_count": null,
      "metadata": {
        "colab": {
          "background_save": true
        },
        "id": "p8Iju0KtDmN_"
      },
      "outputs": [],
      "source": [
        "B = np.array(3)"
      ]
    },
    {
      "cell_type": "code",
      "execution_count": null,
      "metadata": {
        "colab": {
          "background_save": true,
          "base_uri": "https://localhost:8080/"
        },
        "id": "sdhxLE63DrAp",
        "outputId": "ae4e2812-9f30-48dc-8e3d-180cace49774"
      },
      "outputs": [
        {
          "data": {
            "text/plain": [
              "0"
            ]
          },
          "execution_count": 29,
          "metadata": {},
          "output_type": "execute_result"
        }
      ],
      "source": [
        "B.ndim"
      ]
    },
    {
      "cell_type": "code",
      "execution_count": null,
      "metadata": {
        "colab": {
          "background_save": true,
          "base_uri": "https://localhost:8080/"
        },
        "id": "qnG4szUbDsyc",
        "outputId": "ea657b57-1374-4157-b1bf-125f90940756"
      },
      "outputs": [
        {
          "data": {
            "text/plain": [
              "18"
            ]
          },
          "execution_count": 30,
          "metadata": {},
          "output_type": "execute_result"
        }
      ],
      "source": [
        "c.size"
      ]
    },
    {
      "cell_type": "code",
      "execution_count": null,
      "metadata": {
        "colab": {
          "background_save": true,
          "base_uri": "https://localhost:8080/"
        },
        "id": "s9M6_2ESG3XI",
        "outputId": "a912bdd7-67e2-4ecf-fd1a-0fb234211615"
      },
      "outputs": [
        {
          "data": {
            "text/plain": [
              "144"
            ]
          },
          "execution_count": 31,
          "metadata": {},
          "output_type": "execute_result"
        }
      ],
      "source": [
        "c.nbytes"
      ]
    },
    {
      "cell_type": "markdown",
      "metadata": {
        "id": "4VXUYCnFHQbW"
      },
      "source": [
        "# This section covers np.zeros(), np.ones(), np.empty(), np.arange(), np.linspace()"
      ]
    },
    {
      "cell_type": "code",
      "execution_count": null,
      "metadata": {
        "colab": {
          "background_save": true,
          "base_uri": "https://localhost:8080/"
        },
        "id": "xtA7WCnmHSD2",
        "outputId": "b2fac75d-927f-47c9-e9b6-994884175a1b"
      },
      "outputs": [
        {
          "data": {
            "text/plain": [
              "array([0., 0., 0.])"
            ]
          },
          "execution_count": 32,
          "metadata": {},
          "output_type": "execute_result"
        }
      ],
      "source": [
        "\n",
        "np.zeros(3)"
      ]
    },
    {
      "cell_type": "code",
      "execution_count": null,
      "metadata": {
        "colab": {
          "background_save": true,
          "base_uri": "https://localhost:8080/"
        },
        "id": "2MumoIgyHVK9",
        "outputId": "c7879cc3-d4de-42af-8623-30592858b84c"
      },
      "outputs": [
        {
          "data": {
            "text/plain": [
              "array([1., 1., 1.])"
            ]
          },
          "execution_count": 33,
          "metadata": {},
          "output_type": "execute_result"
        }
      ],
      "source": [
        "np.ones(3)"
      ]
    },
    {
      "cell_type": "code",
      "execution_count": null,
      "metadata": {
        "colab": {
          "background_save": true,
          "base_uri": "https://localhost:8080/"
        },
        "id": "0JDLF9yHHZHu",
        "outputId": "53df407c-d89d-4ad1-b9e8-308da2bc0528"
      },
      "outputs": [
        {
          "data": {
            "text/plain": [
              "array([-2.00000000e+000,  6.95287904e-310])"
            ]
          },
          "execution_count": 34,
          "metadata": {},
          "output_type": "execute_result"
        }
      ],
      "source": [
        "\n",
        "\n",
        "# Create an empty array with 2 elements\n",
        "np.empty(2)"
      ]
    },
    {
      "cell_type": "code",
      "execution_count": null,
      "metadata": {
        "colab": {
          "background_save": true,
          "base_uri": "https://localhost:8080/"
        },
        "id": "-O4bKZmfHwp8",
        "outputId": "eba7048b-1edf-450f-a7c2-41d563f692de"
      },
      "outputs": [
        {
          "data": {
            "text/plain": [
              "array([2, 4, 6, 8])"
            ]
          },
          "execution_count": 35,
          "metadata": {},
          "output_type": "execute_result"
        }
      ],
      "source": [
        "\n",
        "\n",
        "'''And even an array that contains a range of evenly spaced intervals.\n",
        " To do this, you will specify the first number, last number, and the step size.'''\n",
        "np.arange(2, 9, 2)"
      ]
    },
    {
      "cell_type": "code",
      "execution_count": null,
      "metadata": {
        "colab": {
          "background_save": true,
          "base_uri": "https://localhost:8080/"
        },
        "id": "a5T74SZ-IEVF",
        "outputId": "033ea603-f0c8-4d9f-e094-6accfed83e4e"
      },
      "outputs": [
        {
          "data": {
            "text/plain": [
              "array([ 0. ,  2.4,  4.8,  7.2,  9.6, 12. ])"
            ]
          },
          "execution_count": 36,
          "metadata": {},
          "output_type": "execute_result"
        }
      ],
      "source": [
        "\n",
        "'''\n",
        "You can also use np.linspace()\n",
        "to create an array with values that are spaced linearly in a specified interval:\n",
        "'''\n",
        "np.linspace(0, 12, num = 6)"
      ]
    },
    {
      "cell_type": "code",
      "execution_count": null,
      "metadata": {
        "colab": {
          "background_save": true,
          "base_uri": "https://localhost:8080/"
        },
        "id": "KbnTdD5UHgpF",
        "outputId": "6d0f2fc1-74d9-4ba8-fa10-bc7adc79cf17"
      },
      "outputs": [
        {
          "data": {
            "text/plain": [
              "array([0, 1, 2, 3])"
            ]
          },
          "execution_count": 37,
          "metadata": {},
          "output_type": "execute_result"
        }
      ],
      "source": [
        "np.arange(4)"
      ]
    },
    {
      "cell_type": "code",
      "execution_count": null,
      "metadata": {
        "colab": {
          "background_save": true,
          "base_uri": "https://localhost:8080/"
        },
        "id": "ny5Zz9MiKGKz",
        "outputId": "cc7858dd-93d2-4a28-976a-b2a4b77ad79c"
      },
      "outputs": [
        {
          "data": {
            "text/plain": [
              "array([ 5,  6,  7,  8,  9, 10, 11, 12, 13, 14, 15, 16, 17, 18, 19])"
            ]
          },
          "execution_count": 38,
          "metadata": {},
          "output_type": "execute_result"
        }
      ],
      "source": [
        "\n",
        "np.arange(5,20) # similar to for i in range(5, 20)"
      ]
    },
    {
      "cell_type": "code",
      "execution_count": null,
      "metadata": {
        "colab": {
          "background_save": true,
          "base_uri": "https://localhost:8080/"
        },
        "id": "6z63nuAzKT37",
        "outputId": "1df7160b-dfa0-423a-b307-a0f4c736c140"
      },
      "outputs": [
        {
          "data": {
            "text/plain": [
              "array([ 5,  7,  9, 11, 13, 15, 17, 19, 21, 23])"
            ]
          },
          "execution_count": 39,
          "metadata": {},
          "output_type": "execute_result"
        }
      ],
      "source": [
        "np.arange(5,25, 2) # for i in range (5, 25, 2)"
      ]
    },
    {
      "cell_type": "code",
      "execution_count": null,
      "metadata": {
        "colab": {
          "background_save": true,
          "base_uri": "https://localhost:8080/"
        },
        "id": "_keSoS8TKdEj",
        "outputId": "3102093a-94d0-4a78-dd81-43068a1ee9d0"
      },
      "outputs": [
        {
          "name": "stdout",
          "output_type": "stream",
          "text": [
            "[6 4 7 8 9 2 0 1 5 3]\n"
          ]
        }
      ],
      "source": [
        "A = np.random.permutation(np.arange(10))\n",
        "print(A)"
      ]
    },
    {
      "cell_type": "code",
      "execution_count": null,
      "metadata": {
        "colab": {
          "background_save": true,
          "base_uri": "https://localhost:8080/"
        },
        "id": "EW5U5JrqcK8w",
        "outputId": "3f4ff1e0-6bcd-4c24-c202-b557d3328dd9"
      },
      "outputs": [
        {
          "data": {
            "text/plain": [
              "59"
            ]
          },
          "execution_count": 41,
          "metadata": {},
          "output_type": "execute_result"
        }
      ],
      "source": [
        "np.random.randint(20, 100)"
      ]
    },
    {
      "cell_type": "code",
      "execution_count": null,
      "metadata": {
        "colab": {
          "background_save": true,
          "base_uri": "https://localhost:8080/"
        },
        "id": "f1SCGEfqcZgH",
        "outputId": "7684ca00-2845-4aea-a22f-d10f2a9d233f"
      },
      "outputs": [
        {
          "name": "stdout",
          "output_type": "stream",
          "text": [
            "[0 1 2 3 4 5]\n"
          ]
        }
      ],
      "source": [
        "a = np.arange(6)\n",
        "print(a)"
      ]
    },
    {
      "cell_type": "code",
      "execution_count": null,
      "metadata": {
        "colab": {
          "background_save": true,
          "base_uri": "https://localhost:8080/"
        },
        "id": "EtkLON-fc4ds",
        "outputId": "b7db7c4b-7a97-4638-a274-17f63b01dfe4"
      },
      "outputs": [
        {
          "name": "stdout",
          "output_type": "stream",
          "text": [
            "[[0 1]\n",
            " [2 3]\n",
            " [4 5]]\n"
          ]
        }
      ],
      "source": [
        "b = a.reshape(3, 2)\n",
        "print(b)"
      ]
    },
    {
      "cell_type": "code",
      "execution_count": null,
      "metadata": {
        "colab": {
          "background_save": true
        },
        "id": "10Sqpy1Jpnvz"
      },
      "outputs": [],
      "source": []
    },
    {
      "cell_type": "markdown",
      "metadata": {
        "id": "efpFFvzoMNM0"
      },
      "source": [
        "# Adding, removing, and sorting elements"
      ]
    },
    {
      "cell_type": "code",
      "execution_count": null,
      "metadata": {
        "colab": {
          "background_save": true,
          "base_uri": "https://localhost:8080/"
        },
        "id": "gTTPa2xsMOiU",
        "outputId": "bb3418bb-567d-4532-cac7-d3f1570664fc"
      },
      "outputs": [
        {
          "data": {
            "text/plain": [
              "array([ 1,  2,  3,  4,  6,  7,  8,  9, 10])"
            ]
          },
          "execution_count": 44,
          "metadata": {},
          "output_type": "execute_result"
        }
      ],
      "source": [
        "arr = np.array([4, 6, 1, 3, 8, 2, 9, 7, 10])\n",
        "np.sort(arr)"
      ]
    },
    {
      "cell_type": "code",
      "execution_count": null,
      "metadata": {
        "colab": {
          "background_save": true
        },
        "id": "dfjkuVJ7MYp3"
      },
      "outputs": [],
      "source": [
        "a = np.array([1, 2, 3, 4])\n",
        "b = np.array([5, 6, 7, 8])"
      ]
    },
    {
      "cell_type": "code",
      "execution_count": null,
      "metadata": {
        "colab": {
          "background_save": true,
          "base_uri": "https://localhost:8080/"
        },
        "id": "Rg78cNC_eBOG",
        "outputId": "d41cd8cc-983d-4b1f-bc62-3e9a3eb1a6e8"
      },
      "outputs": [
        {
          "data": {
            "text/plain": [
              "array([1, 2, 3, 4, 5, 6, 7, 8])"
            ]
          },
          "execution_count": 46,
          "metadata": {},
          "output_type": "execute_result"
        }
      ],
      "source": [
        "np.concatenate((a, b))"
      ]
    },
    {
      "cell_type": "code",
      "execution_count": null,
      "metadata": {
        "colab": {
          "background_save": true
        },
        "id": "an_VRNjSeE1_"
      },
      "outputs": [],
      "source": [
        "\n",
        "x = np.array([[1, 2], [3, 4]])\n",
        "y = np.array([[5, 6]])"
      ]
    },
    {
      "cell_type": "code",
      "execution_count": null,
      "metadata": {
        "colab": {
          "background_save": true,
          "base_uri": "https://localhost:8080/"
        },
        "id": "zxA2Bj9fej3G",
        "outputId": "78bf1729-f929-446a-9e97-fa0cc22555ae"
      },
      "outputs": [
        {
          "data": {
            "text/plain": [
              "array([[1, 2],\n",
              "       [3, 4],\n",
              "       [5, 6]])"
            ]
          },
          "execution_count": 48,
          "metadata": {},
          "output_type": "execute_result"
        }
      ],
      "source": [
        "np.concatenate((x, y), axis = 0)"
      ]
    },
    {
      "cell_type": "code",
      "execution_count": null,
      "metadata": {
        "colab": {
          "background_save": true
        },
        "id": "_xAFHCPBeoZj"
      },
      "outputs": [],
      "source": [
        "import numpy as np"
      ]
    },
    {
      "cell_type": "code",
      "execution_count": null,
      "metadata": {
        "colab": {
          "background_save": true
        },
        "id": "XK3XBbyDF-D0"
      },
      "outputs": [],
      "source": [
        "A = np.random.rand(1000)"
      ]
    },
    {
      "cell_type": "code",
      "execution_count": null,
      "metadata": {
        "colab": {
          "background_save": true,
          "base_uri": "https://localhost:8080/"
        },
        "id": "n6WS0zj8GIMp",
        "outputId": "e904bc0f-6122-4137-e062-8dfc07c0dc37"
      },
      "outputs": [
        {
          "data": {
            "text/plain": [
              "array([0.9297204 , 0.24382122, 0.65550437, 0.61853954, 0.85354955,\n",
              "       0.75205359, 0.21745838, 0.11917802, 0.07321568, 0.50685471,\n",
              "       0.99026762, 0.14535707, 0.93501961, 0.84031899, 0.71711024,\n",
              "       0.94511862, 0.59095217, 0.95616989, 0.93732713, 0.49986506,\n",
              "       0.58166612, 0.75514986, 0.41970846, 0.57158937, 0.92700153,\n",
              "       0.26968659, 0.62327621, 0.33711615, 0.23083071, 0.69696829,\n",
              "       0.49028596, 0.22833267, 0.11690781, 0.5725318 , 0.5088823 ,\n",
              "       0.39031638, 0.28095691, 0.71365177, 0.10989269, 0.77659063,\n",
              "       0.07206703, 0.41148388, 0.39515427, 0.83569743, 0.29533874,\n",
              "       0.73386209, 0.07363931, 0.03991683, 0.64010082, 0.83141678,\n",
              "       0.32165827, 0.92982671, 0.63808962, 0.24480576, 0.84332515,\n",
              "       0.14276989, 0.67683718, 0.79082742, 0.34674256, 0.50628968,\n",
              "       0.90659319, 0.9940021 , 0.47744428, 0.46981969, 0.07620289,\n",
              "       0.17098236, 0.07274223, 0.93972906, 0.77535481, 0.83010992,\n",
              "       0.96101487, 0.56949514, 0.01673549, 0.84794002, 0.43130546,\n",
              "       0.54908845, 0.41377511, 0.22150403, 0.10186558, 0.51700202,\n",
              "       0.98535703, 0.83264136, 0.67909272, 0.1698847 , 0.20383206,\n",
              "       0.96050694, 0.64856286, 0.26640022, 0.50863876, 0.42273466,\n",
              "       0.55301483, 0.42114767, 0.5403012 , 0.82311324, 0.82430038,\n",
              "       0.49798004, 0.67448248, 0.18399688, 0.74339743, 0.49772645,\n",
              "       0.94294223, 0.87526731, 0.41628873, 0.70361334, 0.18824211,\n",
              "       0.66858549, 0.892383  , 0.88416035, 0.46219421, 0.63409387,\n",
              "       0.33373574, 0.61854222, 0.6402037 , 0.52901303, 0.97585549,\n",
              "       0.23192087, 0.41442344, 0.98030814, 0.73811023, 0.12876023,\n",
              "       0.24619742, 0.24158782, 0.72161987, 0.95566193, 0.97466567,\n",
              "       0.25730837, 0.99508827, 0.2449556 , 0.56773508, 0.10604168,\n",
              "       0.14303772, 0.50926982, 0.76745628, 0.84260493, 0.26492343,\n",
              "       0.70965296, 0.0731242 , 0.58174333, 0.79375789, 0.80345903,\n",
              "       0.16044929, 0.68440596, 0.00826428, 0.46963551, 0.7748764 ,\n",
              "       0.19707173, 0.14830719, 0.60807358, 0.90820632, 0.39797963,\n",
              "       0.04986742, 0.17640819, 0.54311002, 0.98683619, 0.27386049,\n",
              "       0.15008943, 0.12732093, 0.27038706, 0.41676373, 0.82096878,\n",
              "       0.07151752, 0.81013226, 0.89134473, 0.30650231, 0.95603657,\n",
              "       0.11557543, 0.50216148, 0.14532522, 0.36696071, 0.40883254,\n",
              "       0.19083429, 0.07334626, 0.94238825, 0.77951014, 0.60454664,\n",
              "       0.38965833, 0.4951872 , 0.83262327, 0.46372498, 0.02818738,\n",
              "       0.11067791, 0.9839843 , 0.23854692, 0.5555638 , 0.53067039,\n",
              "       0.82257454, 0.35671983, 0.49668112, 0.66558166, 0.3508742 ,\n",
              "       0.12697925, 0.28246571, 0.78301242, 0.9751726 , 0.43262757,\n",
              "       0.41622368, 0.10156837, 0.09713565, 0.35905292, 0.07367898,\n",
              "       0.4919955 , 0.87946175, 0.19122656, 0.92603129, 0.90328267,\n",
              "       0.59602753, 0.08231029, 0.4992595 , 0.22699395, 0.46253442,\n",
              "       0.3621387 , 0.84582257, 0.77119361, 0.61222576, 0.8766369 ,\n",
              "       0.20756766, 0.32511067, 0.38206766, 0.51529153, 0.63871138,\n",
              "       0.25580447, 0.10959146, 0.83273141, 0.19610918, 0.93955879,\n",
              "       0.03762478, 0.36584761, 0.81944882, 0.47512973, 0.61932387,\n",
              "       0.61429824, 0.87841654, 0.06483442, 0.29797702, 0.74987666,\n",
              "       0.62438522, 0.2326817 , 0.94344804, 0.55006116, 0.23516169,\n",
              "       0.60456084, 0.79166678, 0.36273344, 0.456787  , 0.67455387,\n",
              "       0.18208629, 0.69591952, 0.69844144, 0.77923965, 0.62479098,\n",
              "       0.42987187, 0.26290586, 0.08110483, 0.45480235, 0.4661759 ,\n",
              "       0.61803224, 0.38354686, 0.22401822, 0.98217757, 0.13983507,\n",
              "       0.27124414, 0.27494254, 0.07742627, 0.25032999, 0.61029809,\n",
              "       0.80322083, 0.56118792, 0.61085741, 0.05167483, 0.22631421,\n",
              "       0.30962096, 0.70902115, 0.14095608, 0.64775041, 0.46510292,\n",
              "       0.19160167, 0.52106864, 0.24207935, 0.93939896, 0.32030064,\n",
              "       0.57974286, 0.33269686, 0.48187166, 0.91049229, 0.63351937,\n",
              "       0.99912607, 0.94715936, 0.87846891, 0.3794345 , 0.02298615,\n",
              "       0.91641049, 0.58832228, 0.52258815, 0.73624388, 0.88583043,\n",
              "       0.46550076, 0.87937286, 0.71023571, 0.15542681, 0.58933867,\n",
              "       0.45000886, 0.97096572, 0.72624616, 0.95582606, 0.09979736,\n",
              "       0.98494779, 0.87136402, 0.66667584, 0.2740842 , 0.68202215,\n",
              "       0.85980618, 0.15147478, 0.63396546, 0.01982436, 0.81266403,\n",
              "       0.21252425, 0.10261672, 0.24935094, 0.73850636, 0.95503314,\n",
              "       0.34911368, 0.41849863, 0.33700779, 0.50011749, 0.40097341,\n",
              "       0.14479058, 0.69291595, 0.30151779, 0.11299946, 0.2069328 ,\n",
              "       0.2892229 , 0.74910993, 0.13801322, 0.24719045, 0.64900589,\n",
              "       0.93452921, 0.9425218 , 0.98565862, 0.97372417, 0.25608691,\n",
              "       0.94664777, 0.89282305, 0.91902784, 0.75872182, 0.43450692,\n",
              "       0.84928396, 0.81464093, 0.76335312, 0.62200853, 0.64463757,\n",
              "       0.44557466, 0.92097268, 0.25697992, 0.41045932, 0.3885756 ,\n",
              "       0.01619011, 0.50680443, 0.3478015 , 0.68432878, 0.3195595 ,\n",
              "       0.46026912, 0.87241758, 0.16764302, 0.11582186, 0.18504385,\n",
              "       0.50840613, 0.92269894, 0.54722614, 0.66041308, 0.24978092,\n",
              "       0.0716572 , 0.21036199, 0.29718416, 0.79244401, 0.50716745,\n",
              "       0.5019029 , 0.77654632, 0.47018914, 0.66317188, 0.6105155 ,\n",
              "       0.16944307, 0.75090525, 0.74328628, 0.95349592, 0.00954525,\n",
              "       0.67390565, 0.03335702, 0.20923822, 0.97818099, 0.07611615,\n",
              "       0.82508932, 0.60475249, 0.43901261, 0.88410882, 0.99986811,\n",
              "       0.3541564 , 0.89044767, 0.42015815, 0.57183155, 0.47726442,\n",
              "       0.40435686, 0.25700538, 0.36824615, 0.00618684, 0.18988035,\n",
              "       0.51508757, 0.89061104, 0.67418719, 0.87450621, 0.77901143,\n",
              "       0.24531504, 0.53042501, 0.46968894, 0.84232422, 0.2070152 ,\n",
              "       0.96542925, 0.65134629, 0.07772764, 0.01523002, 0.47052213,\n",
              "       0.26474263, 0.78954243, 0.94378863, 0.76937972, 0.6825302 ,\n",
              "       0.7287713 , 0.37982908, 0.28716758, 0.86306708, 0.94792552,\n",
              "       0.8577131 , 0.63911383, 0.97640183, 0.15337623, 0.56678827,\n",
              "       0.49778434, 0.98514612, 0.15431297, 0.52991144, 0.4028304 ,\n",
              "       0.97057025, 0.29280156, 0.49199604, 0.34592744, 0.77144862,\n",
              "       0.19850363, 0.5068735 , 0.37791265, 0.8322851 , 0.29228304,\n",
              "       0.3643135 , 0.41216893, 0.53686877, 0.69791548, 0.33248382,\n",
              "       0.75319225, 0.53743523, 0.76838514, 0.01618903, 0.72554303,\n",
              "       0.06431917, 0.40982699, 0.69156829, 0.92035356, 0.38571466,\n",
              "       0.05595359, 0.99202634, 0.49667903, 0.05410227, 0.33407899,\n",
              "       0.78837524, 0.87115916, 0.72874248, 0.16886206, 0.57198892,\n",
              "       0.5589359 , 0.52633918, 0.12587637, 0.89207377, 0.29275091,\n",
              "       0.02801854, 0.41650072, 0.77373262, 0.33811633, 0.70706486,\n",
              "       0.49995947, 0.3344638 , 0.75270478, 0.92958629, 0.42815981,\n",
              "       0.90865243, 0.58462865, 0.00269293, 0.3999801 , 0.26961769,\n",
              "       0.31277783, 0.19495979, 0.17341294, 0.59879631, 0.57136737,\n",
              "       0.18768296, 0.70959259, 0.26584478, 0.86984987, 0.20994111,\n",
              "       0.16157202, 0.58947207, 0.06672358, 0.47410501, 0.0887693 ,\n",
              "       0.29434811, 0.25451808, 0.46641298, 0.89516926, 0.11808797,\n",
              "       0.18517689, 0.12315152, 0.30630032, 0.01973177, 0.74516815,\n",
              "       0.68459461, 0.19862634, 0.44323997, 0.19996716, 0.89727006,\n",
              "       0.33368979, 0.76601075, 0.94543784, 0.59383376, 0.58198594,\n",
              "       0.66310625, 0.16424126, 0.44857864, 0.57028956, 0.27153023,\n",
              "       0.10661002, 0.55962155, 0.10700443, 0.46523266, 0.59064669,\n",
              "       0.01910005, 0.04192054, 0.93325722, 0.06891795, 0.41271733,\n",
              "       0.18297639, 0.55118395, 0.8911443 , 0.8867635 , 0.28099501,\n",
              "       0.55542859, 0.5423549 , 0.04889796, 0.55042635, 0.2590309 ,\n",
              "       0.06839385, 0.03753641, 0.9912598 , 0.96394593, 0.07624692,\n",
              "       0.35156856, 0.58252311, 0.81267168, 0.81250996, 0.50849499,\n",
              "       0.971631  , 0.83501283, 0.82378453, 0.56799248, 0.48856936,\n",
              "       0.22219279, 0.50552052, 0.16577029, 0.24227814, 0.62208564,\n",
              "       0.97267607, 0.96434624, 0.39264229, 0.09751019, 0.42572767,\n",
              "       0.75136121, 0.0281626 , 0.37984141, 0.58053728, 0.72893523,\n",
              "       0.87954268, 0.07840743, 0.59004684, 0.83060485, 0.64609472,\n",
              "       0.03568927, 0.52425101, 0.50928178, 0.36326331, 0.52104386,\n",
              "       0.6138023 , 0.00509982, 0.44613291, 0.86766947, 0.70135277,\n",
              "       0.59077208, 0.15051303, 0.03112122, 0.41561794, 0.10901638,\n",
              "       0.75190189, 0.41146918, 0.22327532, 0.26561014, 0.4702178 ,\n",
              "       0.38249446, 0.91040939, 0.72060357, 0.94076919, 0.07539586,\n",
              "       0.68746799, 0.27539643, 0.51731384, 0.27546514, 0.99009633,\n",
              "       0.1272395 , 0.28651983, 0.40719293, 0.00588415, 0.12056603,\n",
              "       0.64779413, 0.77718747, 0.23523907, 0.69649651, 0.47696538,\n",
              "       0.13129702, 0.87924268, 0.59352667, 0.35299936, 0.26641278,\n",
              "       0.4471018 , 0.26371339, 0.98825347, 0.3193287 , 0.34409163,\n",
              "       0.24761986, 0.14465061, 0.81489654, 0.04027351, 0.26226819,\n",
              "       0.38670121, 0.66747221, 0.36303346, 0.55752076, 0.38813872,\n",
              "       0.96431884, 0.42435247, 0.74707323, 0.50795771, 0.37608504,\n",
              "       0.62495884, 0.79042721, 0.52122502, 0.27059058, 0.57869088,\n",
              "       0.05325748, 0.09978672, 0.21724176, 0.94306774, 0.04365306,\n",
              "       0.58970883, 0.01105051, 0.29826298, 0.48362104, 0.9890613 ,\n",
              "       0.06018966, 0.42221393, 0.81387543, 0.70222771, 0.266116  ,\n",
              "       0.99649565, 0.28723004, 0.46287389, 0.89563709, 0.11477803,\n",
              "       0.7866168 , 0.5470745 , 0.64045638, 0.79753641, 0.10481163,\n",
              "       0.38608688, 0.2930158 , 0.21769702, 0.54525836, 0.70667829,\n",
              "       0.20534073, 0.75220085, 0.05795166, 0.7688935 , 0.55372581,\n",
              "       0.21194977, 0.90400272, 0.43920967, 0.77926061, 0.3495934 ,\n",
              "       0.59440883, 0.65549686, 0.36501486, 0.76192754, 0.1975412 ,\n",
              "       0.94210275, 0.32128527, 0.75140443, 0.30730039, 0.65147083,\n",
              "       0.35925165, 0.75404323, 0.25417063, 0.98114438, 0.5104535 ,\n",
              "       0.41452314, 0.97798398, 0.2499782 , 0.37260422, 0.77172407,\n",
              "       0.48928894, 0.30523209, 0.60287877, 0.632774  , 0.56416368,\n",
              "       0.29237673, 0.90021072, 0.35992436, 0.89044959, 0.77419089,\n",
              "       0.18917477, 0.02312671, 0.70984781, 0.36698406, 0.54173675,\n",
              "       0.01308698, 0.51700154, 0.60553294, 0.10356243, 0.43382877,\n",
              "       0.13427588, 0.88763459, 0.40590332, 0.17665469, 0.95069043,\n",
              "       0.97285535, 0.95512854, 0.2628915 , 0.2871752 , 0.83596806,\n",
              "       0.26333301, 0.68174565, 0.69062401, 0.51220763, 0.52444595,\n",
              "       0.41466277, 0.58932006, 0.65891451, 0.89600276, 0.00125657,\n",
              "       0.21484015, 0.96017534, 0.18516317, 0.88822645, 0.63887917,\n",
              "       0.05615299, 0.94291063, 0.18203994, 0.29987807, 0.46061777,\n",
              "       0.24196445, 0.85428971, 0.56474421, 0.09512442, 0.14534635,\n",
              "       0.67659594, 0.87026591, 0.61511987, 0.89785772, 0.47944323,\n",
              "       0.58299964, 0.30080911, 0.14161071, 0.93868255, 0.78380646,\n",
              "       0.791544  , 0.47936765, 0.56567284, 0.17228353, 0.08655574,\n",
              "       0.84474437, 0.91831139, 0.80867818, 0.95291215, 0.32095381,\n",
              "       0.16468887, 0.08666646, 0.68428729, 0.02189044, 0.55465553,\n",
              "       0.56489443, 0.84895703, 0.85856707, 0.87538857, 0.35324793,\n",
              "       0.66470088, 0.17798995, 0.6477266 , 0.62462621, 0.02483969,\n",
              "       0.17963721, 0.81930678, 0.72549485, 0.63543778, 0.10049453,\n",
              "       0.51130202, 0.16814382, 0.34795149, 0.13688049, 0.9954034 ,\n",
              "       0.33740838, 0.94540424, 0.27139986, 0.98695539, 0.17520625,\n",
              "       0.74177703, 0.7852724 , 0.94793271, 0.85239002, 0.35858946,\n",
              "       0.51336293, 0.91396359, 0.10203093, 0.21094194, 0.45306596,\n",
              "       0.85029258, 0.4592523 , 0.65279122, 0.94906711, 0.38055568,\n",
              "       0.21843467, 0.67752116, 0.15415116, 0.95558987, 0.58507424,\n",
              "       0.10242237, 0.62366307, 0.68008612, 0.97927879, 0.380082  ,\n",
              "       0.56663841, 0.31376077, 0.33444143, 0.42891363, 0.30976985,\n",
              "       0.60875673, 0.50805071, 0.83401828, 0.08879236, 0.71450126,\n",
              "       0.7670515 , 0.18930464, 0.4295455 , 0.66111454, 0.5846614 ,\n",
              "       0.35066253, 0.72378127, 0.51281037, 0.04315197, 0.14711046,\n",
              "       0.11994608, 0.13682681, 0.84314247, 0.98930569, 0.13710764,\n",
              "       0.45042578, 0.86355705, 0.37251154, 0.06480825, 0.0036208 ,\n",
              "       0.63699751, 0.10209926, 0.04804104, 0.18389185, 0.93728215,\n",
              "       0.97003322, 0.03365395, 0.66993153, 0.90881815, 0.59065733,\n",
              "       0.59891074, 0.46676105, 0.0428499 , 0.99046346, 0.28390484,\n",
              "       0.52979712, 0.77664546, 0.02403453, 0.23549383, 0.57503548,\n",
              "       0.52136715, 0.02965436, 0.15053538, 0.85208563, 0.65937264,\n",
              "       0.02137723, 0.59605756, 0.38948965, 0.89768442, 0.92314098,\n",
              "       0.7668243 , 0.26803667, 0.46573698, 0.038948  , 0.00923007,\n",
              "       0.11470999, 0.46417891, 0.74786595, 0.80022387, 0.24320375,\n",
              "       0.14427668, 0.56412505, 0.35242007, 0.88369894, 0.72787376,\n",
              "       0.34564405, 0.71889601, 0.65646704, 0.85850677, 0.00734188,\n",
              "       0.61289176, 0.25857667, 0.65211438, 0.4166804 , 0.97402978,\n",
              "       0.51139302, 0.84183252, 0.38494902, 0.90415721, 0.66617528,\n",
              "       0.85879632, 0.25428573, 0.3997069 , 0.68963307, 0.35513193,\n",
              "       0.67794198, 0.35877815, 0.65350294, 0.71639244, 0.77877624,\n",
              "       0.93221904, 0.93856683, 0.73438958, 0.27538999, 0.58900505,\n",
              "       0.60682273, 0.8155277 , 0.62546007, 0.22917404, 0.77398039,\n",
              "       0.51596142, 0.37654211, 0.88950667, 0.31414376, 0.18258296,\n",
              "       0.80461426, 0.90218179, 0.23268997, 0.57401901, 0.33498775,\n",
              "       0.8999869 , 0.5810591 , 0.55401836, 0.15410946, 0.12771426,\n",
              "       0.52629722, 0.58864785, 0.50238908, 0.18896168, 0.51374583,\n",
              "       0.03417341, 0.68425395, 0.62419534, 0.50685334, 0.51154175,\n",
              "       0.882195  , 0.30035625, 0.78093708, 0.11603974, 0.52462012,\n",
              "       0.1122544 , 0.08788478, 0.24507856, 0.45264809, 0.73002343,\n",
              "       0.49338301, 0.49841966, 0.41495184, 0.46052835, 0.98353952])"
            ]
          },
          "execution_count": 51,
          "metadata": {},
          "output_type": "execute_result"
        }
      ],
      "source": [
        "A"
      ]
    },
    {
      "cell_type": "code",
      "execution_count": null,
      "metadata": {
        "colab": {
          "background_save": true
        },
        "id": "-J35EZGcGK5p"
      },
      "outputs": [],
      "source": [
        "\n",
        "import matplotlib.pyplot as plt"
      ]
    },
    {
      "cell_type": "code",
      "execution_count": null,
      "metadata": {
        "colab": {
          "background_save": true,
          "base_uri": "https://localhost:8080/",
          "height": 1000
        },
        "id": "ZexhibRiGzdy",
        "outputId": "74c745d7-bf7c-4182-9e96-e3a9671249f2"
      },
      "outputs": [
        {
          "data": {
            "text/plain": [
              "(array([11.,  8., 11.,  9.,  7.,  7.,  6., 17.,  6.,  6., 15., 12.,  7.,\n",
              "         8., 14.,  7., 10.,  7., 16.,  9.,  9.,  7.,  9.,  7., 17., 10.,\n",
              "        17.,  9.,  9., 13.,  7.,  6.,  4., 12.,  9., 13., 10., 10., 12.,\n",
              "         5.,  8., 18.,  9.,  6.,  7.,  8., 18.,  7.,  5., 14., 19., 13.,\n",
              "        14.,  4.,  9., 10., 12.,  9., 18., 11.,  9., 11., 10., 12.,  8.,\n",
              "        10., 11., 10., 10.,  8., 10.,  5., 11.,  5.,  8., 11.,  9., 17.,\n",
              "         7.,  7.,  5., 10.,  6., 11., 11., 10.,  4., 14.,  9., 15.,  9.,\n",
              "         6.,  9., 11., 17., 10.,  7., 15., 14., 11.]),\n",
              " array([0.00125657, 0.01124269, 0.0212288 , 0.03121492, 0.04120103,\n",
              "        0.05118715, 0.06117326, 0.07115938, 0.08114549, 0.09113161,\n",
              "        0.10111772, 0.11110384, 0.12108996, 0.13107607, 0.14106219,\n",
              "        0.1510483 , 0.16103442, 0.17102053, 0.18100665, 0.19099276,\n",
              "        0.20097888, 0.21096499, 0.22095111, 0.23093722, 0.24092334,\n",
              "        0.25090945, 0.26089557, 0.27088169, 0.2808678 , 0.29085392,\n",
              "        0.30084003, 0.31082615, 0.32081226, 0.33079838, 0.34078449,\n",
              "        0.35077061, 0.36075672, 0.37074284, 0.38072895, 0.39071507,\n",
              "        0.40070119, 0.4106873 , 0.42067342, 0.43065953, 0.44064565,\n",
              "        0.45063176, 0.46061788, 0.47060399, 0.48059011, 0.49057622,\n",
              "        0.50056234, 0.51054845, 0.52053457, 0.53052069, 0.5405068 ,\n",
              "        0.55049292, 0.56047903, 0.57046515, 0.58045126, 0.59043738,\n",
              "        0.60042349, 0.61040961, 0.62039572, 0.63038184, 0.64036795,\n",
              "        0.65035407, 0.66034019, 0.6703263 , 0.68031242, 0.69029853,\n",
              "        0.70028465, 0.71027076, 0.72025688, 0.73024299, 0.74022911,\n",
              "        0.75021522, 0.76020134, 0.77018745, 0.78017357, 0.79015968,\n",
              "        0.8001458 , 0.81013192, 0.82011803, 0.83010415, 0.84009026,\n",
              "        0.85007638, 0.86006249, 0.87004861, 0.88003472, 0.89002084,\n",
              "        0.90000695, 0.90999307, 0.91997918, 0.9299653 , 0.93995142,\n",
              "        0.94993753, 0.95992365, 0.96990976, 0.97989588, 0.98988199,\n",
              "        0.99986811]),\n",
              " <BarContainer object of 100 artists>)"
            ]
          },
          "execution_count": 53,
          "metadata": {},
          "output_type": "execute_result"
        },
        {
          "data": {
            "image/png": "[encoded data removed]",
            "text/plain": [
              "<Figure size 640x480 with 1 Axes>"
            ]
          },
          "metadata": {},
          "output_type": "display_data"
        }
      ],
      "source": [
        "plt.hist(A, bins= 100)"
      ]
    },
    {
      "cell_type": "code",
      "execution_count": null,
      "metadata": {
        "colab": {
          "background_save": true
        },
        "id": "jEnKM_mQG2QA"
      },
      "outputs": [],
      "source": [
        "B = np.random.randn(100000)"
      ]
    },
    {
      "cell_type": "code",
      "execution_count": null,
      "metadata": {
        "colab": {
          "background_save": true,
          "base_uri": "https://localhost:8080/",
          "height": 1000
        },
        "id": "hOjI1UPZHkaF",
        "outputId": "d5177b42-fb7b-441a-e343-7b3ea5001962"
      },
      "outputs": [
        {
          "data": {
            "text/plain": [
              "(array([1.000e+00, 0.000e+00, 0.000e+00, 0.000e+00, 0.000e+00, 0.000e+00,\n",
              "        0.000e+00, 0.000e+00, 1.000e+00, 1.000e+00, 0.000e+00, 1.000e+00,\n",
              "        2.000e+00, 2.000e+00, 0.000e+00, 1.000e+00, 1.000e+00, 2.000e+00,\n",
              "        3.000e+00, 5.000e+00, 3.000e+00, 7.000e+00, 0.000e+00, 6.000e+00,\n",
              "        4.000e+00, 7.000e+00, 7.000e+00, 8.000e+00, 1.500e+01, 1.000e+01,\n",
              "        1.500e+01, 2.000e+01, 1.500e+01, 2.600e+01, 2.500e+01, 3.300e+01,\n",
              "        3.600e+01, 2.900e+01, 4.800e+01, 3.000e+01, 4.500e+01, 5.400e+01,\n",
              "        5.500e+01, 7.600e+01, 7.700e+01, 8.800e+01, 8.500e+01, 1.050e+02,\n",
              "        1.130e+02, 1.330e+02, 1.510e+02, 1.640e+02, 1.800e+02, 2.150e+02,\n",
              "        2.140e+02, 2.520e+02, 2.320e+02, 2.600e+02, 2.810e+02, 3.310e+02,\n",
              "        3.540e+02, 3.640e+02, 3.900e+02, 4.070e+02, 4.390e+02, 5.060e+02,\n",
              "        5.310e+02, 5.560e+02, 5.580e+02, 6.200e+02, 6.470e+02, 7.700e+02,\n",
              "        7.510e+02, 7.700e+02, 8.480e+02, 8.840e+02, 9.250e+02, 8.820e+02,\n",
              "        9.660e+02, 1.086e+03, 1.109e+03, 1.111e+03, 1.137e+03, 1.194e+03,\n",
              "        1.306e+03, 1.310e+03, 1.293e+03, 1.406e+03, 1.444e+03, 1.495e+03,\n",
              "        1.452e+03, 1.517e+03, 1.604e+03, 1.553e+03, 1.634e+03, 1.674e+03,\n",
              "        1.702e+03, 1.622e+03, 1.655e+03, 1.788e+03, 1.675e+03, 1.672e+03,\n",
              "        1.747e+03, 1.722e+03, 1.664e+03, 1.695e+03, 1.742e+03, 1.711e+03,\n",
              "        1.662e+03, 1.614e+03, 1.601e+03, 1.639e+03, 1.589e+03, 1.428e+03,\n",
              "        1.479e+03, 1.485e+03, 1.410e+03, 1.446e+03, 1.407e+03, 1.303e+03,\n",
              "        1.308e+03, 1.242e+03, 1.239e+03, 1.170e+03, 1.073e+03, 1.028e+03,\n",
              "        9.990e+02, 9.020e+02, 8.630e+02, 8.930e+02, 8.190e+02, 8.160e+02,\n",
              "        7.910e+02, 7.290e+02, 7.170e+02, 6.050e+02, 5.380e+02, 5.440e+02,\n",
              "        5.840e+02, 4.570e+02, 4.490e+02, 4.580e+02, 3.910e+02, 3.480e+02,\n",
              "        3.360e+02, 3.110e+02, 3.260e+02, 2.610e+02, 2.270e+02, 2.100e+02,\n",
              "        2.070e+02, 1.800e+02, 1.390e+02, 1.630e+02, 1.440e+02, 1.150e+02,\n",
              "        1.040e+02, 1.130e+02, 8.000e+01, 9.000e+01, 6.900e+01, 7.200e+01,\n",
              "        5.200e+01, 5.500e+01, 4.700e+01, 4.400e+01, 3.200e+01, 3.000e+01,\n",
              "        2.400e+01, 2.500e+01, 2.000e+01, 1.700e+01, 1.900e+01, 9.000e+00,\n",
              "        1.300e+01, 1.000e+01, 1.000e+01, 8.000e+00, 8.000e+00, 6.000e+00,\n",
              "        4.000e+00, 5.000e+00, 7.000e+00, 2.000e+00, 0.000e+00, 4.000e+00,\n",
              "        4.000e+00, 2.000e+00, 1.000e+00, 1.000e+00, 0.000e+00, 1.000e+00,\n",
              "        1.000e+00, 0.000e+00, 0.000e+00, 1.000e+00, 0.000e+00, 1.000e+00,\n",
              "        0.000e+00, 1.000e+00]),\n",
              " array([-4.40405873, -4.36107029, -4.31808186, -4.27509343, -4.23210499,\n",
              "        -4.18911656, -4.14612813, -4.1031397 , -4.06015126, -4.01716283,\n",
              "        -3.9741744 , -3.93118596, -3.88819753, -3.8452091 , -3.80222066,\n",
              "        -3.75923223, -3.7162438 , -3.67325536, -3.63026693, -3.5872785 ,\n",
              "        -3.54429006, -3.50130163, -3.4583132 , -3.41532477, -3.37233633,\n",
              "        -3.3293479 , -3.28635947, -3.24337103, -3.2003826 , -3.15739417,\n",
              "        -3.11440573, -3.0714173 , -3.02842887, -2.98544043, -2.942452  ,\n",
              "        -2.89946357, -2.85647513, -2.8134867 , -2.77049827, -2.72750984,\n",
              "        -2.6845214 , -2.64153297, -2.59854454, -2.5555561 , -2.51256767,\n",
              "        -2.46957924, -2.4265908 , -2.38360237, -2.34061394, -2.2976255 ,\n",
              "        -2.25463707, -2.21164864, -2.1686602 , -2.12567177, -2.08268334,\n",
              "        -2.0396949 , -1.99670647, -1.95371804, -1.91072961, -1.86774117,\n",
              "        -1.82475274, -1.78176431, -1.73877587, -1.69578744, -1.65279901,\n",
              "        -1.60981057, -1.56682214, -1.52383371, -1.48084527, -1.43785684,\n",
              "        -1.39486841, -1.35187997, -1.30889154, -1.26590311, -1.22291468,\n",
              "        -1.17992624, -1.13693781, -1.09394938, -1.05096094, -1.00797251,\n",
              "        -0.96498408, -0.92199564, -0.87900721, -0.83601878, -0.79303034,\n",
              "        -0.75004191, -0.70705348, -0.66406504, -0.62107661, -0.57808818,\n",
              "        -0.53509975, -0.49211131, -0.44912288, -0.40613445, -0.36314601,\n",
              "        -0.32015758, -0.27716915, -0.23418071, -0.19119228, -0.14820385,\n",
              "        -0.10521541, -0.06222698, -0.01923855,  0.02374989,  0.06673832,\n",
              "         0.10972675,  0.15271519,  0.19570362,  0.23869205,  0.28168048,\n",
              "         0.32466892,  0.36765735,  0.41064578,  0.45363422,  0.49662265,\n",
              "         0.53961108,  0.58259952,  0.62558795,  0.66857638,  0.71156482,\n",
              "         0.75455325,  0.79754168,  0.84053012,  0.88351855,  0.92650698,\n",
              "         0.96949541,  1.01248385,  1.05547228,  1.09846071,  1.14144915,\n",
              "         1.18443758,  1.22742601,  1.27041445,  1.31340288,  1.35639131,\n",
              "         1.39937975,  1.44236818,  1.48535661,  1.52834505,  1.57133348,\n",
              "         1.61432191,  1.65731034,  1.70029878,  1.74328721,  1.78627564,\n",
              "         1.82926408,  1.87225251,  1.91524094,  1.95822938,  2.00121781,\n",
              "         2.04420624,  2.08719468,  2.13018311,  2.17317154,  2.21615998,\n",
              "         2.25914841,  2.30213684,  2.34512528,  2.38811371,  2.43110214,\n",
              "         2.47409057,  2.51707901,  2.56006744,  2.60305587,  2.64604431,\n",
              "         2.68903274,  2.73202117,  2.77500961,  2.81799804,  2.86098647,\n",
              "         2.90397491,  2.94696334,  2.98995177,  3.03294021,  3.07592864,\n",
              "         3.11891707,  3.1619055 ,  3.20489394,  3.24788237,  3.2908708 ,\n",
              "         3.33385924,  3.37684767,  3.4198361 ,  3.46282454,  3.50581297,\n",
              "         3.5488014 ,  3.59178984,  3.63477827,  3.6777667 ,  3.72075514,\n",
              "         3.76374357,  3.806732  ,  3.84972043,  3.89270887,  3.9356973 ,\n",
              "         3.97868573,  4.02167417,  4.0646626 ,  4.10765103,  4.15063947,\n",
              "         4.1936279 ]),\n",
              " <BarContainer object of 200 artists>)"
            ]
          },
          "execution_count": 55,
          "metadata": {},
          "output_type": "execute_result"
        },
        {
          "data": {
            "image/png": "[encoded data removed]",
            "text/plain": [
              "<Figure size 640x480 with 1 Axes>"
            ]
          },
          "metadata": {},
          "output_type": "display_data"
        }
      ],
      "source": [
        "plt.hist(B, bins = 200)"
      ]
    },
    {
      "cell_type": "code",
      "execution_count": null,
      "metadata": {
        "colab": {
          "background_save": true,
          "base_uri": "https://localhost:8080/"
        },
        "id": "V96vP424HruZ",
        "outputId": "25efc97f-48d4-4e1e-ba0c-3a2ad17bb371"
      },
      "outputs": [
        {
          "data": {
            "text/plain": [
              "array([[0.60963122, 0.05423596, 0.96148602],\n",
              "       [0.89950589, 0.89809181, 0.82004331]])"
            ]
          },
          "execution_count": 56,
          "metadata": {},
          "output_type": "execute_result"
        }
      ],
      "source": [
        "\n",
        "\n",
        "c = np.random.rand(2,3)\n",
        "c"
      ]
    },
    {
      "cell_type": "code",
      "execution_count": null,
      "metadata": {
        "colab": {
          "background_save": true,
          "base_uri": "https://localhost:8080/"
        },
        "id": "6xkBeuR1IEKB",
        "outputId": "ebfc95f6-4b48-4b43-897b-781d8ea4085e"
      },
      "outputs": [
        {
          "data": {
            "text/plain": [
              "2"
            ]
          },
          "execution_count": 57,
          "metadata": {},
          "output_type": "execute_result"
        }
      ],
      "source": [
        "c.ndim"
      ]
    },
    {
      "cell_type": "code",
      "execution_count": null,
      "metadata": {
        "colab": {
          "background_save": true,
          "base_uri": "https://localhost:8080/"
        },
        "id": "rUoAVqiHILS3",
        "outputId": "a97c183e-97d7-4556-8854-7335b4520b01"
      },
      "outputs": [
        {
          "data": {
            "text/plain": [
              "array([[[[0.32872362, 0.4669039 ],\n",
              "         [0.1171277 , 0.05038606],\n",
              "         [0.52636036, 0.95119015],\n",
              "         [0.65866873, 0.53857443]],\n",
              "\n",
              "        [[0.18686028, 0.035039  ],\n",
              "         [0.79055393, 0.95898642],\n",
              "         [0.77126701, 0.36575426],\n",
              "         [0.35519493, 0.830062  ]],\n",
              "\n",
              "        [[0.32372843, 0.33960011],\n",
              "         [0.93115114, 0.72418054],\n",
              "         [0.68527062, 0.05204808],\n",
              "         [0.42986014, 0.22881996]]],\n",
              "\n",
              "\n",
              "       [[[0.32767844, 0.12624336],\n",
              "         [0.21489415, 0.4477234 ],\n",
              "         [0.65636187, 0.99038005],\n",
              "         [0.66991918, 0.04986227]],\n",
              "\n",
              "        [[0.59889501, 0.88825418],\n",
              "         [0.97223403, 0.14658881],\n",
              "         [0.54366818, 0.94513081],\n",
              "         [0.07265423, 0.04501987]],\n",
              "\n",
              "        [[0.91827331, 0.84102455],\n",
              "         [0.89382747, 0.96256068],\n",
              "         [0.21376941, 0.11359002],\n",
              "         [0.43753235, 0.82927932]]]])"
            ]
          },
          "execution_count": 58,
          "metadata": {},
          "output_type": "execute_result"
        }
      ],
      "source": [
        "c = np.random.rand(2, 3, 4, 2)\n",
        "c"
      ]
    },
    {
      "cell_type": "code",
      "execution_count": null,
      "metadata": {
        "colab": {
          "background_save": true,
          "base_uri": "https://localhost:8080/"
        },
        "id": "KNv5fqAjIRbt",
        "outputId": "ee51fe93-c63c-4d51-ced7-09ff470485fa"
      },
      "outputs": [
        {
          "data": {
            "text/plain": [
              "4"
            ]
          },
          "execution_count": 59,
          "metadata": {},
          "output_type": "execute_result"
        }
      ],
      "source": [
        "\n",
        "c.ndim"
      ]
    },
    {
      "cell_type": "code",
      "execution_count": null,
      "metadata": {
        "colab": {
          "background_save": true
        },
        "id": "hVXOa_vWIxHs"
      },
      "outputs": [],
      "source": [
        "\n",
        "D = np.arange(100).reshape(4,25)"
      ]
    },
    {
      "cell_type": "code",
      "execution_count": null,
      "metadata": {
        "colab": {
          "background_save": true,
          "base_uri": "https://localhost:8080/"
        },
        "id": "vJz0RrlqJbqR",
        "outputId": "061a8fd1-6b31-4665-9eac-c74750ff86d7"
      },
      "outputs": [
        {
          "data": {
            "text/plain": [
              "(4, 25)"
            ]
          },
          "execution_count": 61,
          "metadata": {},
          "output_type": "execute_result"
        }
      ],
      "source": [
        "D.shape"
      ]
    },
    {
      "cell_type": "code",
      "execution_count": null,
      "metadata": {
        "colab": {
          "background_save": true
        },
        "id": "7DSnWEeuJis6"
      },
      "outputs": [],
      "source": [
        "D = np.arange(100).reshape(4,5,5)"
      ]
    },
    {
      "cell_type": "code",
      "execution_count": null,
      "metadata": {
        "colab": {
          "background_save": true,
          "base_uri": "https://localhost:8080/"
        },
        "id": "qn_AFxuzJsnq",
        "outputId": "85ec7fcf-d6df-4058-cbd3-4b0eeac370c3"
      },
      "outputs": [
        {
          "data": {
            "text/plain": [
              "(4, 5, 5)"
            ]
          },
          "execution_count": 63,
          "metadata": {},
          "output_type": "execute_result"
        }
      ],
      "source": [
        "D.shape"
      ]
    },
    {
      "cell_type": "code",
      "execution_count": null,
      "metadata": {
        "colab": {
          "background_save": true,
          "base_uri": "https://localhost:8080/"
        },
        "id": "KLGvDTjrJvcC",
        "outputId": "5c52a3ad-37ee-4137-fa36-2ce9b167d0ee"
      },
      "outputs": [
        {
          "data": {
            "text/plain": [
              "array([[ 0,  1,  2,  3,  4,  5,  6,  7,  8,  9, 10, 11, 12, 13, 14, 15,\n",
              "        16, 17, 18, 19],\n",
              "       [20, 21, 22, 23, 24, 25, 26, 27, 28, 29, 30, 31, 32, 33, 34, 35,\n",
              "        36, 37, 38, 39],\n",
              "       [40, 41, 42, 43, 44, 45, 46, 47, 48, 49, 50, 51, 52, 53, 54, 55,\n",
              "        56, 57, 58, 59],\n",
              "       [60, 61, 62, 63, 64, 65, 66, 67, 68, 69, 70, 71, 72, 73, 74, 75,\n",
              "        76, 77, 78, 79],\n",
              "       [80, 81, 82, 83, 84, 85, 86, 87, 88, 89, 90, 91, 92, 93, 94, 95,\n",
              "        96, 97, 98, 99]])"
            ]
          },
          "execution_count": 64,
          "metadata": {},
          "output_type": "execute_result"
        }
      ],
      "source": [
        "np.reshape(D, newshape= (5,20), order='C')"
      ]
    },
    {
      "cell_type": "markdown",
      "metadata": {
        "id": "qIgrAxXELk16"
      },
      "source": [
        "# Numpy(Slicing)"
      ]
    },
    {
      "cell_type": "code",
      "execution_count": null,
      "metadata": {
        "colab": {
          "background_save": true
        },
        "id": "kqOqxp5kLocX"
      },
      "outputs": [],
      "source": [
        "A = np.arange(100)"
      ]
    },
    {
      "cell_type": "code",
      "execution_count": null,
      "metadata": {
        "colab": {
          "background_save": true,
          "base_uri": "https://localhost:8080/"
        },
        "id": "83yL0bEAL9KZ",
        "outputId": "beec4768-21ed-4c05-8f24-5fdbf034720c"
      },
      "outputs": [
        {
          "name": "stdout",
          "output_type": "stream",
          "text": [
            "[3 4 5 6 7 8 9]\n"
          ]
        }
      ],
      "source": [
        "b = A[3:10]\n",
        "print(b)"
      ]
    },
    {
      "cell_type": "code",
      "execution_count": null,
      "metadata": {
        "colab": {
          "background_save": true,
          "base_uri": "https://localhost:8080/"
        },
        "id": "2sIPg-8_MCYg",
        "outputId": "77221b17-8445-4b80-ad08-a4b94a37ff94"
      },
      "outputs": [
        {
          "name": "stdout",
          "output_type": "stream",
          "text": [
            "[-120    4    5    6    7    8    9]\n"
          ]
        }
      ],
      "source": [
        "b[0] = -120\n",
        "print(b)"
      ]
    },
    {
      "cell_type": "code",
      "execution_count": null,
      "metadata": {
        "colab": {
          "background_save": true,
          "base_uri": "https://localhost:8080/"
        },
        "id": "0rmQPWMPMVkX",
        "outputId": "a176db79-5334-40c8-cb00-faee51796be4"
      },
      "outputs": [
        {
          "data": {
            "text/plain": [
              "array([   0,    1,    2, -120,    4,    5,    6,    7,    8,    9,   10,\n",
              "         11,   12,   13,   14,   15,   16,   17,   18,   19,   20,   21,\n",
              "         22,   23,   24,   25,   26,   27,   28,   29,   30,   31,   32,\n",
              "         33,   34,   35,   36,   37,   38,   39,   40,   41,   42,   43,\n",
              "         44,   45,   46,   47,   48,   49,   50,   51,   52,   53,   54,\n",
              "         55,   56,   57,   58,   59,   60,   61,   62,   63,   64,   65,\n",
              "         66,   67,   68,   69,   70,   71,   72,   73,   74,   75,   76,\n",
              "         77,   78,   79,   80,   81,   82,   83,   84,   85,   86,   87,\n",
              "         88,   89,   90,   91,   92,   93,   94,   95,   96,   97,   98,\n",
              "         99])"
            ]
          },
          "execution_count": 68,
          "metadata": {},
          "output_type": "execute_result"
        }
      ],
      "source": [
        "A"
      ]
    },
    {
      "cell_type": "code",
      "execution_count": null,
      "metadata": {
        "colab": {
          "background_save": true
        },
        "id": "mAL3UQxYMYSP"
      },
      "outputs": [],
      "source": [
        "b = A[3:10].copy()"
      ]
    },
    {
      "cell_type": "code",
      "execution_count": null,
      "metadata": {
        "colab": {
          "background_save": true,
          "base_uri": "https://localhost:8080/"
        },
        "id": "jTuoIsUoMrJD",
        "outputId": "5e22daa9-e547-4c26-fbbd-9bd8a86f8121"
      },
      "outputs": [
        {
          "data": {
            "text/plain": [
              "array([ 0,  5, 10, 15, 20, 25, 30, 35, 40, 45, 50, 55, 60, 65, 70, 75, 80,\n",
              "       85, 90, 95])"
            ]
          },
          "execution_count": 70,
          "metadata": {},
          "output_type": "execute_result"
        }
      ],
      "source": [
        "A[::5]"
      ]
    },
    {
      "cell_type": "code",
      "execution_count": null,
      "metadata": {
        "colab": {
          "background_save": true,
          "base_uri": "https://localhost:8080/"
        },
        "id": "bKfeHfJMMzW3",
        "outputId": "8553e643-9711-41c9-fa71-9f863adf928c"
      },
      "outputs": [
        {
          "data": {
            "text/plain": [
              "array([99, 94, 89, 84, 79, 74, 69, 64, 59, 54, 49, 44, 39, 34, 29, 24, 19,\n",
              "       14,  9,  4])"
            ]
          },
          "execution_count": 71,
          "metadata": {},
          "output_type": "execute_result"
        }
      ],
      "source": [
        "A[::-5]"
      ]
    },
    {
      "cell_type": "code",
      "execution_count": null,
      "metadata": {
        "colab": {
          "background_save": true,
          "base_uri": "https://localhost:8080/"
        },
        "id": "U_cBaHioM3qn",
        "outputId": "c8ffa6d5-672d-437f-d0e7-93f9e6082360"
      },
      "outputs": [
        {
          "data": {
            "text/plain": [
              "array([  99,   98,   97,   96,   95,   94,   93,   92,   91,   90,   89,\n",
              "         88,   87,   86,   85,   84,   83,   82,   81,   80,   79,   78,\n",
              "         77,   76,   75,   74,   73,   72,   71,   70,   69,   68,   67,\n",
              "         66,   65,   64,   63,   62,   61,   60,   59,   58,   57,   56,\n",
              "         55,   54,   53,   52,   51,   50,   49,   48,   47,   46,   45,\n",
              "         44,   43,   42,   41,   40,   39,   38,   37,   36,   35,   34,\n",
              "         33,   32,   31,   30,   29,   28,   27,   26,   25,   24,   23,\n",
              "         22,   21,   20,   19,   18,   17,   16,   15,   14,   13,   12,\n",
              "         11,   10,    9,    8,    7,    6,    5,    4, -120,    2,    1,\n",
              "          0])"
            ]
          },
          "execution_count": 72,
          "metadata": {},
          "output_type": "execute_result"
        }
      ],
      "source": [
        "A[::-1]"
      ]
    },
    {
      "cell_type": "code",
      "execution_count": null,
      "metadata": {
        "colab": {
          "background_save": true,
          "base_uri": "https://localhost:8080/"
        },
        "id": "tOK4VCBBNEp6",
        "outputId": "6f4c3b83-0737-4e4b-9d94-31208ba712db"
      },
      "outputs": [
        {
          "data": {
            "text/plain": [
              "array([   0,    1,    2, -120,    4,    5,    6,    7,    8,    9,   10,\n",
              "         11,   12,   13,   14,   15,   16,   17,   18,   19,   20,   21,\n",
              "         22,   23,   24,   25,   26,   27,   28,   29,   30,   31,   32,\n",
              "         33,   34,   35,   36,   37,   38,   39,   40,   41,   42,   43,\n",
              "         44,   45,   46,   47,   48,   49,   50,   51,   52,   53,   54,\n",
              "         55,   56,   57,   58,   59,   60,   61,   62,   63,   64,   65,\n",
              "         66,   67,   68,   69,   70,   71,   72,   73,   74,   75,   76,\n",
              "         77,   78,   79,   80,   81,   82,   83,   84,   85,   86,   87,\n",
              "         88,   89,   90,   91,   92,   93,   94,   95,   96,   97,   98,\n",
              "         99])"
            ]
          },
          "execution_count": 73,
          "metadata": {},
          "output_type": "execute_result"
        }
      ],
      "source": [
        "A"
      ]
    },
    {
      "cell_type": "code",
      "execution_count": null,
      "metadata": {
        "colab": {
          "background_save": true
        },
        "id": "g8S2pwl2RMdW"
      },
      "outputs": [],
      "source": [
        "idx = np.argwhere(A==-120)[0][0]"
      ]
    },
    {
      "cell_type": "code",
      "execution_count": null,
      "metadata": {
        "colab": {
          "background_save": true,
          "base_uri": "https://localhost:8080/"
        },
        "id": "aDGUZC_ERVTp",
        "outputId": "a688cb85-77c5-446b-8ccc-878c5583ae86"
      },
      "outputs": [
        {
          "data": {
            "text/plain": [
              "3"
            ]
          },
          "execution_count": 75,
          "metadata": {},
          "output_type": "execute_result"
        }
      ],
      "source": [
        "idx"
      ]
    },
    {
      "cell_type": "code",
      "execution_count": null,
      "metadata": {
        "colab": {
          "background_save": true
        },
        "id": "59ExhIScRWcA"
      },
      "outputs": [],
      "source": [
        "A[idx] = 3"
      ]
    },
    {
      "cell_type": "code",
      "execution_count": null,
      "metadata": {
        "colab": {
          "background_save": true,
          "base_uri": "https://localhost:8080/"
        },
        "id": "zM8cQTq6Rg6l",
        "outputId": "3d7e1129-4dea-4186-d1e9-8d63930fd03c"
      },
      "outputs": [
        {
          "data": {
            "text/plain": [
              "array([ 0,  1,  2,  3,  4,  5,  6,  7,  8,  9, 10, 11, 12, 13, 14, 15, 16,\n",
              "       17, 18, 19, 20, 21, 22, 23, 24, 25, 26, 27, 28, 29, 30, 31, 32, 33,\n",
              "       34, 35, 36, 37, 38, 39, 40, 41, 42, 43, 44, 45, 46, 47, 48, 49, 50,\n",
              "       51, 52, 53, 54, 55, 56, 57, 58, 59, 60, 61, 62, 63, 64, 65, 66, 67,\n",
              "       68, 69, 70, 71, 72, 73, 74, 75, 76, 77, 78, 79, 80, 81, 82, 83, 84,\n",
              "       85, 86, 87, 88, 89, 90, 91, 92, 93, 94, 95, 96, 97, 98, 99])"
            ]
          },
          "execution_count": 77,
          "metadata": {},
          "output_type": "execute_result"
        }
      ],
      "source": [
        "A"
      ]
    },
    {
      "cell_type": "code",
      "execution_count": null,
      "metadata": {
        "colab": {
          "background_save": true
        },
        "id": "BcP4Ch5mRiMH"
      },
      "outputs": [],
      "source": [
        "A = np.round(10* np.random.rand(5, 4))"
      ]
    },
    {
      "cell_type": "code",
      "execution_count": null,
      "metadata": {
        "colab": {
          "background_save": true,
          "base_uri": "https://localhost:8080/"
        },
        "id": "23G_DrMzRzJF",
        "outputId": "321ce16e-091f-4d70-907b-9978c4bb3502"
      },
      "outputs": [
        {
          "data": {
            "text/plain": [
              "array([[1., 9., 9., 8.],\n",
              "       [9., 6., 0., 8.],\n",
              "       [3., 7., 5., 5.],\n",
              "       [6., 7., 3., 5.],\n",
              "       [2., 6., 2., 6.]])"
            ]
          },
          "execution_count": 79,
          "metadata": {},
          "output_type": "execute_result"
        }
      ],
      "source": [
        "A"
      ]
    },
    {
      "cell_type": "code",
      "execution_count": null,
      "metadata": {
        "colab": {
          "background_save": true,
          "base_uri": "https://localhost:8080/"
        },
        "id": "yCgEvMBxR5yt",
        "outputId": "158af64a-6ae9-41a8-cb64-7ee9226a1655"
      },
      "outputs": [
        {
          "data": {
            "text/plain": [
              "0.0"
            ]
          },
          "execution_count": 80,
          "metadata": {},
          "output_type": "execute_result"
        }
      ],
      "source": [
        "A[1, 2]"
      ]
    },
    {
      "cell_type": "code",
      "execution_count": null,
      "metadata": {
        "colab": {
          "background_save": true,
          "base_uri": "https://localhost:8080/"
        },
        "id": "kgbv56bubIE8",
        "outputId": "e52a7ebe-c399-4b8e-ef17-b061360ecf5f"
      },
      "outputs": [
        {
          "data": {
            "text/plain": [
              "array([9., 6., 0., 8.])"
            ]
          },
          "execution_count": 81,
          "metadata": {},
          "output_type": "execute_result"
        }
      ],
      "source": [
        "A[1, :]"
      ]
    },
    {
      "cell_type": "code",
      "execution_count": null,
      "metadata": {
        "colab": {
          "background_save": true,
          "base_uri": "https://localhost:8080/"
        },
        "id": "2F3hVyfPbP03",
        "outputId": "37f5741f-8c30-474e-f05f-a8b0cedb54df"
      },
      "outputs": [
        {
          "data": {
            "text/plain": [
              "array([9., 6., 7., 7., 6.])"
            ]
          },
          "execution_count": 82,
          "metadata": {},
          "output_type": "execute_result"
        }
      ],
      "source": [
        "A[:, 1]"
      ]
    },
    {
      "cell_type": "code",
      "execution_count": null,
      "metadata": {
        "colab": {
          "background_save": true,
          "base_uri": "https://localhost:8080/"
        },
        "id": "HoRvwOXUbWM2",
        "outputId": "9bc889cc-f7cd-4230-cf28-0b035dbee62d"
      },
      "outputs": [
        {
          "data": {
            "text/plain": [
              "array([[0., 8.],\n",
              "       [5., 5.]])"
            ]
          },
          "execution_count": 83,
          "metadata": {},
          "output_type": "execute_result"
        }
      ],
      "source": [
        "A[1:3, 2:4]"
      ]
    },
    {
      "cell_type": "code",
      "execution_count": null,
      "metadata": {
        "colab": {
          "background_save": true
        },
        "id": "6fXrpkMtbhBR"
      },
      "outputs": [],
      "source": [
        "import numpy.linalg as la"
      ]
    },
    {
      "cell_type": "code",
      "execution_count": null,
      "metadata": {
        "colab": {
          "background_save": true,
          "base_uri": "https://localhost:8080/"
        },
        "id": "0cmhJpKOf-xg",
        "outputId": "60f67aa7-08b3-4351-e704-b56b5d3509e4"
      },
      "outputs": [
        {
          "data": {
            "text/plain": [
              "array([[-3.35399118,  0.11851936,  1.29540165],\n",
              "       [-0.87108112,  1.35385154, -0.97699292],\n",
              "       [ 6.33368303, -0.42717291, -0.34807144]])"
            ]
          },
          "execution_count": 85,
          "metadata": {},
          "output_type": "execute_result"
        }
      ],
      "source": [
        "la.inv(np.random.rand(3,3))"
      ]
    },
    {
      "cell_type": "code",
      "execution_count": null,
      "metadata": {
        "colab": {
          "background_save": true,
          "base_uri": "https://localhost:8080/"
        },
        "id": "48szAsFyvc_c",
        "outputId": "288860d6-9b27-4df3-990e-f12ff27aeaca"
      },
      "outputs": [
        {
          "data": {
            "text/plain": [
              "array([[1., 9., 9., 8.],\n",
              "       [9., 6., 0., 8.],\n",
              "       [3., 7., 5., 5.],\n",
              "       [6., 7., 3., 5.],\n",
              "       [2., 6., 2., 6.]])"
            ]
          },
          "execution_count": 86,
          "metadata": {},
          "output_type": "execute_result"
        }
      ],
      "source": [
        "A"
      ]
    },
    {
      "cell_type": "code",
      "execution_count": null,
      "metadata": {
        "colab": {
          "background_save": true
        },
        "id": "cMsE1BrIwgZv"
      },
      "outputs": [],
      "source": [
        "A.sort(axis=0)"
      ]
    },
    {
      "cell_type": "code",
      "execution_count": null,
      "metadata": {
        "colab": {
          "background_save": true,
          "base_uri": "https://localhost:8080/"
        },
        "id": "U7UW_drqwlbS",
        "outputId": "d1bdf869-90fb-428c-9f8c-76b732e6bf12"
      },
      "outputs": [
        {
          "data": {
            "text/plain": [
              "array([[1., 6., 0., 5.],\n",
              "       [2., 6., 2., 5.],\n",
              "       [3., 7., 3., 6.],\n",
              "       [6., 7., 5., 8.],\n",
              "       [9., 9., 9., 8.]])"
            ]
          },
          "execution_count": 88,
          "metadata": {},
          "output_type": "execute_result"
        }
      ],
      "source": [
        "A"
      ]
    },
    {
      "cell_type": "code",
      "execution_count": null,
      "metadata": {
        "colab": {
          "background_save": true
        },
        "id": "bDyyeWtows8k"
      },
      "outputs": [],
      "source": [
        "A.sort(axis=1)"
      ]
    },
    {
      "cell_type": "code",
      "execution_count": null,
      "metadata": {
        "colab": {
          "background_save": true,
          "base_uri": "https://localhost:8080/"
        },
        "id": "LOQ_eggZw3TW",
        "outputId": "5762e6b6-cff7-4fc9-e27a-2c3e50b7bffe"
      },
      "outputs": [
        {
          "data": {
            "text/plain": [
              "array([[0., 1., 5., 6.],\n",
              "       [2., 2., 5., 6.],\n",
              "       [3., 3., 6., 7.],\n",
              "       [5., 6., 7., 8.],\n",
              "       [8., 9., 9., 9.]])"
            ]
          },
          "execution_count": 90,
          "metadata": {},
          "output_type": "execute_result"
        }
      ],
      "source": [
        "A"
      ]
    },
    {
      "cell_type": "markdown",
      "metadata": {
        "id": "ZQCstNgslE89"
      },
      "source": [
        "# Numpy(More Indexing)"
      ]
    },
    {
      "cell_type": "code",
      "execution_count": null,
      "metadata": {
        "colab": {
          "background_save": true
        },
        "id": "V3KuFFhZw6LW"
      },
      "outputs": [],
      "source": [
        "A =np.arange(100)"
      ]
    },
    {
      "cell_type": "code",
      "execution_count": null,
      "metadata": {
        "colab": {
          "background_save": true
        },
        "id": "vLKfnCTJlDup"
      },
      "outputs": [],
      "source": [
        "B =A[[3, 4, 5]]"
      ]
    },
    {
      "cell_type": "code",
      "execution_count": null,
      "metadata": {
        "colab": {
          "background_save": true
        },
        "id": "IpMiokzgnAzU"
      },
      "outputs": [],
      "source": [
        "B[0] = -4"
      ]
    },
    {
      "cell_type": "code",
      "execution_count": null,
      "metadata": {
        "colab": {
          "background_save": true,
          "base_uri": "https://localhost:8080/"
        },
        "id": "-cfvgqI3nDOs",
        "outputId": "ab0b67e1-d789-4f8e-9dbc-7b1094fb664c"
      },
      "outputs": [
        {
          "data": {
            "text/plain": [
              "array([-4,  4,  5])"
            ]
          },
          "execution_count": 94,
          "metadata": {},
          "output_type": "execute_result"
        }
      ],
      "source": [
        "B"
      ]
    },
    {
      "cell_type": "code",
      "execution_count": null,
      "metadata": {
        "colab": {
          "background_save": true,
          "base_uri": "https://localhost:8080/"
        },
        "id": "xg3h2ER2nHSc",
        "outputId": "9f68b1a3-a83e-456b-e473-bb6018c85e18"
      },
      "outputs": [
        {
          "data": {
            "text/plain": [
              "array([ 0,  1,  2,  3,  4,  5,  6,  7,  8,  9, 10, 11, 12, 13, 14, 15, 16,\n",
              "       17, 18, 19, 20, 21, 22, 23, 24, 25, 26, 27, 28, 29, 30, 31, 32, 33,\n",
              "       34, 35, 36, 37, 38, 39, 40, 41, 42, 43, 44, 45, 46, 47, 48, 49, 50,\n",
              "       51, 52, 53, 54, 55, 56, 57, 58, 59, 60, 61, 62, 63, 64, 65, 66, 67,\n",
              "       68, 69, 70, 71, 72, 73, 74, 75, 76, 77, 78, 79, 80, 81, 82, 83, 84,\n",
              "       85, 86, 87, 88, 89, 90, 91, 92, 93, 94, 95, 96, 97, 98, 99])"
            ]
          },
          "execution_count": 95,
          "metadata": {},
          "output_type": "execute_result"
        }
      ],
      "source": [
        "A"
      ]
    },
    {
      "cell_type": "code",
      "execution_count": null,
      "metadata": {
        "colab": {
          "background_save": true,
          "base_uri": "https://localhost:8080/"
        },
        "id": "BlkulD8WnJyg",
        "outputId": "e750172a-b152-436f-ba45-2beb12cfbb20"
      },
      "outputs": [
        {
          "data": {
            "text/plain": [
              "array([ 0,  1,  2,  3,  4,  5,  6,  7,  8,  9, 10, 11, 12, 13, 14, 15, 16,\n",
              "       17, 18, 19, 20, 21, 22, 23, 24, 25, 26, 27, 28, 29, 30, 31, 32, 33,\n",
              "       34, 35, 36, 37, 38, 39])"
            ]
          },
          "execution_count": 96,
          "metadata": {},
          "output_type": "execute_result"
        }
      ],
      "source": [
        "B = A[A<40]\n",
        "B"
      ]
    },
    {
      "cell_type": "code",
      "execution_count": null,
      "metadata": {
        "colab": {
          "background_save": true,
          "base_uri": "https://localhost:8080/"
        },
        "id": "oioCW5SGnkvI",
        "outputId": "724785f4-94b2-4644-9df1-258d81f4c3fd"
      },
      "outputs": [
        {
          "data": {
            "text/plain": [
              "array([31, 32, 33, 34, 35, 36, 37, 38, 39])"
            ]
          },
          "execution_count": 97,
          "metadata": {},
          "output_type": "execute_result"
        }
      ],
      "source": [
        "B = A[(A<40) & (A>30)]\n",
        "B"
      ]
    },
    {
      "cell_type": "markdown",
      "metadata": {
        "id": "SWCo-V6aoYeL"
      },
      "source": [
        "# Broadcasting"
      ]
    },
    {
      "cell_type": "code",
      "execution_count": null,
      "metadata": {
        "colab": {
          "background_save": true
        },
        "id": "5-1YuV1fnxTN"
      },
      "outputs": [],
      "source": [
        "A = np.round(10* np.random.rand(2,3))"
      ]
    },
    {
      "cell_type": "code",
      "execution_count": null,
      "metadata": {
        "colab": {
          "background_save": true,
          "base_uri": "https://localhost:8080/"
        },
        "id": "6ZIQYDDv2mVc",
        "outputId": "8ae71a31-33ac-4db0-a7d0-246c6afd713e"
      },
      "outputs": [
        {
          "data": {
            "text/plain": [
              "array([[0., 9., 9.],\n",
              "       [7., 2., 1.]])"
            ]
          },
          "execution_count": 99,
          "metadata": {},
          "output_type": "execute_result"
        }
      ],
      "source": [
        "A"
      ]
    },
    {
      "cell_type": "code",
      "execution_count": null,
      "metadata": {
        "colab": {
          "background_save": true,
          "base_uri": "https://localhost:8080/"
        },
        "id": "Itktsw8J2ne-",
        "outputId": "37d50054-1089-464d-a9fa-19bb7732a7f8"
      },
      "outputs": [
        {
          "data": {
            "text/plain": [
              "array([[ 3., 12., 12.],\n",
              "       [10.,  5.,  4.]])"
            ]
          },
          "execution_count": 100,
          "metadata": {},
          "output_type": "execute_result"
        }
      ],
      "source": [
        "A+3"
      ]
    },
    {
      "cell_type": "code",
      "execution_count": null,
      "metadata": {
        "colab": {
          "background_save": true,
          "base_uri": "https://localhost:8080/"
        },
        "id": "_qHDkgF02tAw",
        "outputId": "39dbc30e-846f-4b4d-9eca-a53c5b2f67d7"
      },
      "outputs": [
        {
          "data": {
            "text/plain": [
              "array([[0., 9., 9.],\n",
              "       [8., 3., 2.]])"
            ]
          },
          "execution_count": 101,
          "metadata": {},
          "output_type": "execute_result"
        }
      ],
      "source": [
        "A+(np.arange(2).reshape(2,1))"
      ]
    },
    {
      "cell_type": "code",
      "execution_count": null,
      "metadata": {
        "colab": {
          "background_save": true
        },
        "id": "HNQE8Zs325zB",
        "outputId": "1f0c6832-fff7-40ef-93e3-e9dd2e13e21b"
      },
      "outputs": [
        {
          "data": {
            "text/plain": [
              "array([2])"
            ]
          },
          "execution_count": 102,
          "metadata": {},
          "output_type": "execute_result"
        }
      ],
      "source": [
        "np.arange(2,3)"
      ]
    }
  ],
  "metadata": {
    "colab": {
      "provenance": [],
      "authorship_tag": "ABX9TyPxBfnFww8eVhuJTUoPQWUC",
      "include_colab_link": true
    },
    "kernelspec": {
      "display_name": "Python 3",
      "name": "python3"
    },
    "language_info": {
      "name": "python"
    }
  },
  "nbformat": 4,
  "nbformat_minor": 0
}